{
  "nbformat": 4,
  "nbformat_minor": 0,
  "metadata": {
    "colab": {
      "name": "Домашнее задание А Бахтиева Камилла БЭК172.ipynb",
      "provenance": [],
      "collapsed_sections": []
    },
    "kernelspec": {
      "name": "python3",
      "display_name": "Python 3"
    }
  },
  "cells": [
    {
      "cell_type": "code",
      "metadata": {
        "id": "rqlvY4Aw1BIc",
        "colab_type": "code",
        "colab": {}
      },
      "source": [
        "import numpy as np\n",
        "import pandas as pd\n",
        "import statsmodels.api as stm\n",
        "import matplotlib.pyplot as plt"
      ],
      "execution_count": 2,
      "outputs": []
    },
    {
      "cell_type": "code",
      "metadata": {
        "id": "GV1OUQlixVSG",
        "colab_type": "code",
        "colab": {}
      },
      "source": [
        "np.random.seed(555)"
      ],
      "execution_count": 92,
      "outputs": []
    },
    {
      "cell_type": "code",
      "metadata": {
        "id": "LAgXxffP1B9l",
        "colab_type": "code",
        "colab": {}
      },
      "source": [
        "data_fires = pd.read_csv('https://archive.ics.uci.edu/ml/machine-learning-databases/forest-fires/forestfires.csv')"
      ],
      "execution_count": 4,
      "outputs": []
    },
    {
      "cell_type": "code",
      "metadata": {
        "id": "2UVh3alp1CFx",
        "colab_type": "code",
        "colab": {
          "base_uri": "https://localhost:8080/",
          "height": 202
        },
        "outputId": "98b629b0-9a13-459a-e1e3-ae1bfe41e38d"
      },
      "source": [
        "data_fires.head(5)"
      ],
      "execution_count": 5,
      "outputs": [
        {
          "output_type": "execute_result",
          "data": {
            "text/html": [
              "<div>\n",
              "<style scoped>\n",
              "    .dataframe tbody tr th:only-of-type {\n",
              "        vertical-align: middle;\n",
              "    }\n",
              "\n",
              "    .dataframe tbody tr th {\n",
              "        vertical-align: top;\n",
              "    }\n",
              "\n",
              "    .dataframe thead th {\n",
              "        text-align: right;\n",
              "    }\n",
              "</style>\n",
              "<table border=\"1\" class=\"dataframe\">\n",
              "  <thead>\n",
              "    <tr style=\"text-align: right;\">\n",
              "      <th></th>\n",
              "      <th>X</th>\n",
              "      <th>Y</th>\n",
              "      <th>month</th>\n",
              "      <th>day</th>\n",
              "      <th>FFMC</th>\n",
              "      <th>DMC</th>\n",
              "      <th>DC</th>\n",
              "      <th>ISI</th>\n",
              "      <th>temp</th>\n",
              "      <th>RH</th>\n",
              "      <th>wind</th>\n",
              "      <th>rain</th>\n",
              "      <th>area</th>\n",
              "    </tr>\n",
              "  </thead>\n",
              "  <tbody>\n",
              "    <tr>\n",
              "      <th>0</th>\n",
              "      <td>7</td>\n",
              "      <td>5</td>\n",
              "      <td>mar</td>\n",
              "      <td>fri</td>\n",
              "      <td>86.2</td>\n",
              "      <td>26.2</td>\n",
              "      <td>94.3</td>\n",
              "      <td>5.1</td>\n",
              "      <td>8.2</td>\n",
              "      <td>51</td>\n",
              "      <td>6.7</td>\n",
              "      <td>0.0</td>\n",
              "      <td>0.0</td>\n",
              "    </tr>\n",
              "    <tr>\n",
              "      <th>1</th>\n",
              "      <td>7</td>\n",
              "      <td>4</td>\n",
              "      <td>oct</td>\n",
              "      <td>tue</td>\n",
              "      <td>90.6</td>\n",
              "      <td>35.4</td>\n",
              "      <td>669.1</td>\n",
              "      <td>6.7</td>\n",
              "      <td>18.0</td>\n",
              "      <td>33</td>\n",
              "      <td>0.9</td>\n",
              "      <td>0.0</td>\n",
              "      <td>0.0</td>\n",
              "    </tr>\n",
              "    <tr>\n",
              "      <th>2</th>\n",
              "      <td>7</td>\n",
              "      <td>4</td>\n",
              "      <td>oct</td>\n",
              "      <td>sat</td>\n",
              "      <td>90.6</td>\n",
              "      <td>43.7</td>\n",
              "      <td>686.9</td>\n",
              "      <td>6.7</td>\n",
              "      <td>14.6</td>\n",
              "      <td>33</td>\n",
              "      <td>1.3</td>\n",
              "      <td>0.0</td>\n",
              "      <td>0.0</td>\n",
              "    </tr>\n",
              "    <tr>\n",
              "      <th>3</th>\n",
              "      <td>8</td>\n",
              "      <td>6</td>\n",
              "      <td>mar</td>\n",
              "      <td>fri</td>\n",
              "      <td>91.7</td>\n",
              "      <td>33.3</td>\n",
              "      <td>77.5</td>\n",
              "      <td>9.0</td>\n",
              "      <td>8.3</td>\n",
              "      <td>97</td>\n",
              "      <td>4.0</td>\n",
              "      <td>0.2</td>\n",
              "      <td>0.0</td>\n",
              "    </tr>\n",
              "    <tr>\n",
              "      <th>4</th>\n",
              "      <td>8</td>\n",
              "      <td>6</td>\n",
              "      <td>mar</td>\n",
              "      <td>sun</td>\n",
              "      <td>89.3</td>\n",
              "      <td>51.3</td>\n",
              "      <td>102.2</td>\n",
              "      <td>9.6</td>\n",
              "      <td>11.4</td>\n",
              "      <td>99</td>\n",
              "      <td>1.8</td>\n",
              "      <td>0.0</td>\n",
              "      <td>0.0</td>\n",
              "    </tr>\n",
              "  </tbody>\n",
              "</table>\n",
              "</div>"
            ],
            "text/plain": [
              "   X  Y month  day  FFMC   DMC     DC  ISI  temp  RH  wind  rain  area\n",
              "0  7  5   mar  fri  86.2  26.2   94.3  5.1   8.2  51   6.7   0.0   0.0\n",
              "1  7  4   oct  tue  90.6  35.4  669.1  6.7  18.0  33   0.9   0.0   0.0\n",
              "2  7  4   oct  sat  90.6  43.7  686.9  6.7  14.6  33   1.3   0.0   0.0\n",
              "3  8  6   mar  fri  91.7  33.3   77.5  9.0   8.3  97   4.0   0.2   0.0\n",
              "4  8  6   mar  sun  89.3  51.3  102.2  9.6  11.4  99   1.8   0.0   0.0"
            ]
          },
          "metadata": {
            "tags": []
          },
          "execution_count": 5
        }
      ]
    },
    {
      "cell_type": "markdown",
      "metadata": {
        "id": "CMcGCiFD1hHi",
        "colab_type": "text"
      },
      "source": [
        "1. X - x-axis spatial coordinate within the Montesinho park map: 1 to 9\n",
        "2. Y - y-axis spatial coordinate within the Montesinho park map: 2 to 9\n",
        "3. month - month of the year: 'jan' to 'dec'\n",
        "4. day - day of the week: 'mon' to 'sun'\n",
        "5. FFMC - FFMC index from the FWI system: 18.7 to 96.20\n",
        "6. DMC - DMC index from the FWI system: 1.1 to 291.3\n",
        "7. DC - DC index from the FWI system: 7.9 to 860.6\n",
        "8. ISI - ISI index from the FWI system: 0.0 to 56.10\n",
        "9. temp - temperature in Celsius degrees: 2.2 to 33.30\n",
        "10. RH - relative humidity in %: 15.0 to 100\n",
        "11. wind - wind speed in km/h: 0.40 to 9.40\n",
        "12. rain - outside rain in mm/m2 : 0.0 to 6.4\n",
        "13. area - the burned area of the forest (in ha): 0.00 to 1090.84\n",
        "(this output variable is very skewed towards 0.0, thus it may make\n",
        "sense to model with the logarithm transform)."
      ]
    },
    {
      "cell_type": "markdown",
      "metadata": {
        "id": "KNJrNE3L1nCy",
        "colab_type": "text"
      },
      "source": [
        "**Зависимая переменная - area - площадь лесного пожара**"
      ]
    },
    {
      "cell_type": "code",
      "metadata": {
        "id": "kiORgrVEJ2AY",
        "colab_type": "code",
        "colab": {}
      },
      "source": [
        "#переделать месяцы и дни в числовые\n",
        "mdict = {\"jan\":1, \"feb\":2, \"mar\":3, \"apr\":4, \"may\":5, \"jun\":6, \"jul\":7, \"aug\":8, \"sep\":9, \"oct\":10, \"nov\":11, \"dec\":12}\n",
        "ddict = {\"mon\":1, \"tue\":2, \"wed\":3, \"thu\":4, \"fri\":5, \"sat\":6, \"sun\":7}\n",
        "data_fires['fmonth'] = data_fires['month'].apply(lambda x: mdict[x])\n",
        "data_fires['fday'] = data_fires['day'].apply(lambda x: ddict[x])"
      ],
      "execution_count": 6,
      "outputs": []
    },
    {
      "cell_type": "code",
      "metadata": {
        "id": "vbTn2SgXQpdt",
        "colab_type": "code",
        "colab": {
          "base_uri": "https://localhost:8080/",
          "height": 202
        },
        "outputId": "75dc33b2-15ce-4612-e4ea-a731ff8fad9b"
      },
      "source": [
        "data_fires.head()"
      ],
      "execution_count": 7,
      "outputs": [
        {
          "output_type": "execute_result",
          "data": {
            "text/html": [
              "<div>\n",
              "<style scoped>\n",
              "    .dataframe tbody tr th:only-of-type {\n",
              "        vertical-align: middle;\n",
              "    }\n",
              "\n",
              "    .dataframe tbody tr th {\n",
              "        vertical-align: top;\n",
              "    }\n",
              "\n",
              "    .dataframe thead th {\n",
              "        text-align: right;\n",
              "    }\n",
              "</style>\n",
              "<table border=\"1\" class=\"dataframe\">\n",
              "  <thead>\n",
              "    <tr style=\"text-align: right;\">\n",
              "      <th></th>\n",
              "      <th>X</th>\n",
              "      <th>Y</th>\n",
              "      <th>month</th>\n",
              "      <th>day</th>\n",
              "      <th>FFMC</th>\n",
              "      <th>DMC</th>\n",
              "      <th>DC</th>\n",
              "      <th>ISI</th>\n",
              "      <th>temp</th>\n",
              "      <th>RH</th>\n",
              "      <th>wind</th>\n",
              "      <th>rain</th>\n",
              "      <th>area</th>\n",
              "      <th>fmonth</th>\n",
              "      <th>fday</th>\n",
              "    </tr>\n",
              "  </thead>\n",
              "  <tbody>\n",
              "    <tr>\n",
              "      <th>0</th>\n",
              "      <td>7</td>\n",
              "      <td>5</td>\n",
              "      <td>mar</td>\n",
              "      <td>fri</td>\n",
              "      <td>86.2</td>\n",
              "      <td>26.2</td>\n",
              "      <td>94.3</td>\n",
              "      <td>5.1</td>\n",
              "      <td>8.2</td>\n",
              "      <td>51</td>\n",
              "      <td>6.7</td>\n",
              "      <td>0.0</td>\n",
              "      <td>0.0</td>\n",
              "      <td>3</td>\n",
              "      <td>5</td>\n",
              "    </tr>\n",
              "    <tr>\n",
              "      <th>1</th>\n",
              "      <td>7</td>\n",
              "      <td>4</td>\n",
              "      <td>oct</td>\n",
              "      <td>tue</td>\n",
              "      <td>90.6</td>\n",
              "      <td>35.4</td>\n",
              "      <td>669.1</td>\n",
              "      <td>6.7</td>\n",
              "      <td>18.0</td>\n",
              "      <td>33</td>\n",
              "      <td>0.9</td>\n",
              "      <td>0.0</td>\n",
              "      <td>0.0</td>\n",
              "      <td>10</td>\n",
              "      <td>2</td>\n",
              "    </tr>\n",
              "    <tr>\n",
              "      <th>2</th>\n",
              "      <td>7</td>\n",
              "      <td>4</td>\n",
              "      <td>oct</td>\n",
              "      <td>sat</td>\n",
              "      <td>90.6</td>\n",
              "      <td>43.7</td>\n",
              "      <td>686.9</td>\n",
              "      <td>6.7</td>\n",
              "      <td>14.6</td>\n",
              "      <td>33</td>\n",
              "      <td>1.3</td>\n",
              "      <td>0.0</td>\n",
              "      <td>0.0</td>\n",
              "      <td>10</td>\n",
              "      <td>6</td>\n",
              "    </tr>\n",
              "    <tr>\n",
              "      <th>3</th>\n",
              "      <td>8</td>\n",
              "      <td>6</td>\n",
              "      <td>mar</td>\n",
              "      <td>fri</td>\n",
              "      <td>91.7</td>\n",
              "      <td>33.3</td>\n",
              "      <td>77.5</td>\n",
              "      <td>9.0</td>\n",
              "      <td>8.3</td>\n",
              "      <td>97</td>\n",
              "      <td>4.0</td>\n",
              "      <td>0.2</td>\n",
              "      <td>0.0</td>\n",
              "      <td>3</td>\n",
              "      <td>5</td>\n",
              "    </tr>\n",
              "    <tr>\n",
              "      <th>4</th>\n",
              "      <td>8</td>\n",
              "      <td>6</td>\n",
              "      <td>mar</td>\n",
              "      <td>sun</td>\n",
              "      <td>89.3</td>\n",
              "      <td>51.3</td>\n",
              "      <td>102.2</td>\n",
              "      <td>9.6</td>\n",
              "      <td>11.4</td>\n",
              "      <td>99</td>\n",
              "      <td>1.8</td>\n",
              "      <td>0.0</td>\n",
              "      <td>0.0</td>\n",
              "      <td>3</td>\n",
              "      <td>7</td>\n",
              "    </tr>\n",
              "  </tbody>\n",
              "</table>\n",
              "</div>"
            ],
            "text/plain": [
              "   X  Y month  day  FFMC   DMC     DC  ...  temp  RH  wind  rain  area  fmonth  fday\n",
              "0  7  5   mar  fri  86.2  26.2   94.3  ...   8.2  51   6.7   0.0   0.0       3     5\n",
              "1  7  4   oct  tue  90.6  35.4  669.1  ...  18.0  33   0.9   0.0   0.0      10     2\n",
              "2  7  4   oct  sat  90.6  43.7  686.9  ...  14.6  33   1.3   0.0   0.0      10     6\n",
              "3  8  6   mar  fri  91.7  33.3   77.5  ...   8.3  97   4.0   0.2   0.0       3     5\n",
              "4  8  6   mar  sun  89.3  51.3  102.2  ...  11.4  99   1.8   0.0   0.0       3     7\n",
              "\n",
              "[5 rows x 15 columns]"
            ]
          },
          "metadata": {
            "tags": []
          },
          "execution_count": 7
        }
      ]
    },
    {
      "cell_type": "code",
      "metadata": {
        "id": "wNSovJ2k1COa",
        "colab_type": "code",
        "colab": {}
      },
      "source": [
        "forfires = data_fires[data_fires.area != 0]"
      ],
      "execution_count": 8,
      "outputs": []
    },
    {
      "cell_type": "code",
      "metadata": {
        "id": "r-0ulBHlLNNY",
        "colab_type": "code",
        "colab": {
          "base_uri": "https://localhost:8080/",
          "height": 501
        },
        "outputId": "bce58fb9-d2d5-4174-906a-34dc8e5abc2a"
      },
      "source": [
        "plt.figure(figsize=(15, 8))\n",
        "plt.hist(forfires.area, bins=200)\n",
        "plt.title('Площадь пожара в га', fontdict={'fontsize':16})\n",
        "plt.show()"
      ],
      "execution_count": 10,
      "outputs": [
        {
          "output_type": "display_data",
          "data": {
            "image/png": "[encoded data removed]",
            "text/plain": [
              "<Figure size 1080x576 with 1 Axes>"
            ]
          },
          "metadata": {
            "tags": [],
            "needs_background": "light"
          }
        }
      ]
    },
    {
      "cell_type": "markdown",
      "metadata": {
        "id": "q04dx0B-LRtr",
        "colab_type": "text"
      },
      "source": [
        "Выборка несбалансированная, судя по зачениям целевой переменной разброс будет большим (заметны выбросы с очень высокими показателя ПЛП), попробуем снизить разброс путем логарифмирования"
      ]
    },
    {
      "cell_type": "code",
      "metadata": {
        "id": "Z1xsORZL1CWT",
        "colab_type": "code",
        "colab": {
          "base_uri": "https://localhost:8080/",
          "height": 121
        },
        "outputId": "01358ee1-1c7f-44e0-e51a-dcae9c8336ad"
      },
      "source": [
        "forfires['lgarea'] = np.log(forfires.area)"
      ],
      "execution_count": 9,
      "outputs": [
        {
          "output_type": "stream",
          "text": [
            "/usr/local/lib/python3.6/dist-packages/ipykernel_launcher.py:1: SettingWithCopyWarning: \n",
            "A value is trying to be set on a copy of a slice from a DataFrame.\n",
            "Try using .loc[row_indexer,col_indexer] = value instead\n",
            "\n",
            "See the caveats in the documentation: https://pandas.pydata.org/pandas-docs/stable/user_guide/indexing.html#returning-a-view-versus-a-copy\n",
            "  \"\"\"Entry point for launching an IPython kernel.\n"
          ],
          "name": "stderr"
        }
      ]
    },
    {
      "cell_type": "code",
      "metadata": {
        "id": "WvUCMRDo1Cem",
        "colab_type": "code",
        "colab": {
          "base_uri": "https://localhost:8080/",
          "height": 501
        },
        "outputId": "6d7e7117-05c2-4d68-b039-9113e370b34c"
      },
      "source": [
        "plt.figure(figsize=(15, 8))\n",
        "plt.hist(forfires.lgarea, bins=200)\n",
        "plt.title('Логарифм площади пожара в га', fontdict={'fontsize':16})\n",
        "plt.show()"
      ],
      "execution_count": null,
      "outputs": [
        {
          "output_type": "display_data",
          "data": {
            "image/png": "[encoded data removed]",
            "text/plain": [
              "<Figure size 1080x576 with 1 Axes>"
            ]
          },
          "metadata": {
            "tags": [],
            "needs_background": "light"
          }
        }
      ]
    },
    {
      "cell_type": "markdown",
      "metadata": {
        "id": "uFE08f3nLmQJ",
        "colab_type": "text"
      },
      "source": [
        "Данные стали более сбалансированными и даже напоминают  визуально нормальное распределение"
      ]
    },
    {
      "cell_type": "code",
      "metadata": {
        "id": "oqUAxMRSL54Y",
        "colab_type": "code",
        "colab": {
          "base_uri": "https://localhost:8080/",
          "height": 501
        },
        "outputId": "3fe93d14-d3de-4391-bea0-a46c016965d4"
      },
      "source": [
        "plt.figure(figsize=(15, 8))\n",
        "plt.hist(forfires.FFMC, bins=200)\n",
        "plt.title('FFMC', fontdict={'fontsize':16})\n",
        "plt.show()"
      ],
      "execution_count": null,
      "outputs": [
        {
          "output_type": "display_data",
          "data": {
            "image/png": "[encoded data removed]",
            "text/plain": [
              "<Figure size 1080x576 with 1 Axes>"
            ]
          },
          "metadata": {
            "tags": [],
            "needs_background": "light"
          }
        }
      ]
    },
    {
      "cell_type": "markdown",
      "metadata": {
        "id": "DXB7hoUDL8Cu",
        "colab_type": "text"
      },
      "source": [
        ""
      ]
    },
    {
      "cell_type": "code",
      "metadata": {
        "id": "fW_KMq1SL8b9",
        "colab_type": "code",
        "colab": {
          "base_uri": "https://localhost:8080/",
          "height": 501
        },
        "outputId": "a5ab032a-5ada-4120-d1c2-25862f1d42ea"
      },
      "source": [
        "plt.figure(figsize=(15, 8))\n",
        "plt.hist(forfires.DMC, bins=200)\n",
        "plt.title('DMC', fontdict={'fontsize':16})\n",
        "plt.show()"
      ],
      "execution_count": null,
      "outputs": [
        {
          "output_type": "display_data",
          "data": {
            "image/png": "[encoded data removed]",
            "text/plain": [
              "<Figure size 1080x576 with 1 Axes>"
            ]
          },
          "metadata": {
            "tags": [],
            "needs_background": "light"
          }
        }
      ]
    },
    {
      "cell_type": "code",
      "metadata": {
        "id": "qKOpIGSnL87E",
        "colab_type": "code",
        "colab": {
          "base_uri": "https://localhost:8080/",
          "height": 501
        },
        "outputId": "97ed1c1a-2239-413f-e64f-f6b25d3c3333"
      },
      "source": [
        "plt.figure(figsize=(15, 8))\n",
        "plt.hist(forfires.DC, bins=200, color='red')\n",
        "plt.title('DC', fontdict={'fontsize':16})\n",
        "plt.show()"
      ],
      "execution_count": null,
      "outputs": [
        {
          "output_type": "display_data",
          "data": {
            "image/png": "[encoded data removed]",
            "text/plain": [
              "<Figure size 1080x576 with 1 Axes>"
            ]
          },
          "metadata": {
            "tags": [],
            "needs_background": "light"
          }
        }
      ]
    },
    {
      "cell_type": "code",
      "metadata": {
        "id": "TnpUv5HdL9Ul",
        "colab_type": "code",
        "colab": {
          "base_uri": "https://localhost:8080/",
          "height": 501
        },
        "outputId": "47bdaba0-3d0a-493a-bb72-2e84168010d6"
      },
      "source": [
        "plt.figure(figsize=(15, 8))\n",
        "plt.hist(forfires.ISI, bins=200, color='orange')\n",
        "plt.title('ISI', fontdict={'fontsize':16})\n",
        "plt.show()"
      ],
      "execution_count": null,
      "outputs": [
        {
          "output_type": "display_data",
          "data": {
            "image/png": "[encoded data removed]",
            "text/plain": [
              "<Figure size 1080x576 with 1 Axes>"
            ]
          },
          "metadata": {
            "tags": [],
            "needs_background": "light"
          }
        }
      ]
    },
    {
      "cell_type": "code",
      "metadata": {
        "id": "juNP-UfgL9u2",
        "colab_type": "code",
        "colab": {
          "base_uri": "https://localhost:8080/",
          "height": 501
        },
        "outputId": "779bfde7-e007-4007-c6b1-4d3877748c20"
      },
      "source": [
        "plt.figure(figsize=(15, 8))\n",
        "plt.hist(forfires.temp, bins=200)\n",
        "plt.title('Температура, С', fontdict={'fontsize':16})\n",
        "plt.show()"
      ],
      "execution_count": null,
      "outputs": [
        {
          "output_type": "display_data",
          "data": {
            "image/png": "[encoded data removed]",
            "text/plain": [
              "<Figure size 1080x576 with 1 Axes>"
            ]
          },
          "metadata": {
            "tags": [],
            "needs_background": "light"
          }
        }
      ]
    },
    {
      "cell_type": "code",
      "metadata": {
        "id": "c0PTBHYcL-E_",
        "colab_type": "code",
        "colab": {
          "base_uri": "https://localhost:8080/",
          "height": 501
        },
        "outputId": "caf61970-35a1-4067-e093-b264cca14142"
      },
      "source": [
        "plt.figure(figsize=(15, 8))\n",
        "plt.hist(forfires.wind, bins=200, color='red')\n",
        "plt.title('Скорость ветра, км/ч', fontdict={'fontsize':16})\n",
        "plt.show()"
      ],
      "execution_count": null,
      "outputs": [
        {
          "output_type": "display_data",
          "data": {
            "image/png": "[encoded data removed]",
            "text/plain": [
              "<Figure size 1080x576 with 1 Axes>"
            ]
          },
          "metadata": {
            "tags": [],
            "needs_background": "light"
          }
        }
      ]
    },
    {
      "cell_type": "code",
      "metadata": {
        "id": "t1GWu_hAL-Zg",
        "colab_type": "code",
        "colab": {
          "base_uri": "https://localhost:8080/",
          "height": 501
        },
        "outputId": "4fa58443-a38f-4cd8-b469-282a0ff33b0b"
      },
      "source": [
        "plt.figure(figsize=(15, 8))\n",
        "plt.hist(forfires.RH, bins=200, color='orange')\n",
        "plt.title('Относительная влажность, %', fontdict={'fontsize':16})\n",
        "plt.show()"
      ],
      "execution_count": null,
      "outputs": [
        {
          "output_type": "display_data",
          "data": {
            "image/png": "[encoded data removed]",
            "text/plain": [
              "<Figure size 1080x576 with 1 Axes>"
            ]
          },
          "metadata": {
            "tags": [],
            "needs_background": "light"
          }
        }
      ]
    },
    {
      "cell_type": "code",
      "metadata": {
        "id": "unxWw8SVM2fe",
        "colab_type": "code",
        "colab": {
          "base_uri": "https://localhost:8080/",
          "height": 501
        },
        "outputId": "56be65ef-0168-447a-ea34-7210e210e0c5"
      },
      "source": [
        "plt.figure(figsize=(15, 8))\n",
        "plt.hist(forfires.rain, bins=200)\n",
        "plt.title('Осадки, мм/м2', fontdict={'fontsize':16})\n",
        "plt.show()"
      ],
      "execution_count": null,
      "outputs": [
        {
          "output_type": "display_data",
          "data": {
            "image/png": "[encoded data removed]",
            "text/plain": [
              "<Figure size 1080x576 with 1 Axes>"
            ]
          },
          "metadata": {
            "tags": [],
            "needs_background": "light"
          }
        }
      ]
    },
    {
      "cell_type": "code",
      "metadata": {
        "id": "ruhj8RAdL-0b",
        "colab_type": "code",
        "colab": {
          "base_uri": "https://localhost:8080/",
          "height": 501
        },
        "outputId": "590e6c03-f5c9-4289-a4f2-2a8b20f93f7e"
      },
      "source": [
        "plt.figure(figsize=(15, 8))\n",
        "plt.hist(forfires.fmonth, bins=200)\n",
        "plt.title('Месяц года', fontdict={'fontsize':16})\n",
        "plt.show()"
      ],
      "execution_count": null,
      "outputs": [
        {
          "output_type": "display_data",
          "data": {
            "image/png": "[encoded data removed]",
            "text/plain": [
              "<Figure size 1080x576 with 1 Axes>"
            ]
          },
          "metadata": {
            "tags": [],
            "needs_background": "light"
          }
        }
      ]
    },
    {
      "cell_type": "code",
      "metadata": {
        "id": "0EeP_8VYMj1J",
        "colab_type": "code",
        "colab": {
          "base_uri": "https://localhost:8080/",
          "height": 501
        },
        "outputId": "f54b64be-8d9a-4e3b-c8ca-3ee896bde133"
      },
      "source": [
        "plt.figure(figsize=(15, 8))\n",
        "plt.hist(forfires.fday, bins=200)\n",
        "plt.title('День недели', fontdict={'fontsize':16})\n",
        "plt.show()"
      ],
      "execution_count": null,
      "outputs": [
        {
          "output_type": "display_data",
          "data": {
            "image/png": "[encoded data removed]",
            "text/plain": [
              "<Figure size 1080x576 with 1 Axes>"
            ]
          },
          "metadata": {
            "tags": [],
            "needs_background": "light"
          }
        }
      ]
    },
    {
      "cell_type": "markdown",
      "metadata": {
        "id": "XY6ZHXlkq26D",
        "colab_type": "text"
      },
      "source": [
        "###**Отберите признаки, которые вы включите в модель. Кратко обоснуйте, почему выберёте каждый признак, и какой знак вы ожидаете получить при соответствующей переменной в линейной модели. Нет ограничений по количеству и набору переменных, важно, чтобы он был логичен и обоснован. Однaко желательно принять во внимание нелинейные признаки и признаки взаимодействия. Подготовьте описательные статистики данных. Обязательные: среднее, медиана, дисперсия, минимум, максимум. Дополнительные – любые по желанию. Например, отвергается ли гипотеза о нормальности теста Шапиро-Уилка и что-то ещё. Визуализируйте ваши признаки. Обязательно: гистограммы и ящики с усами. Иное – по желанию. Проинтерпретируйте графики. Есть ли в данных выбросы или иные аномалии? Если да, то как вы планируете с ними работать.**"
      ]
    },
    {
      "cell_type": "markdown",
      "metadata": {
        "id": "2ivxzuCVNPZV",
        "colab_type": "text"
      },
      "source": [
        "Для определения признаков модели посмотрим на совместные распределения переменных.\n",
        "\n"
      ]
    },
    {
      "cell_type": "code",
      "metadata": {
        "id": "wo9wjabONKdD",
        "colab_type": "code",
        "colab": {
          "base_uri": "https://localhost:8080/",
          "height": 518
        },
        "outputId": "7c624235-0667-4f45-c0c3-9ca742b8cd88"
      },
      "source": [
        "plt.figure(figsize=(15, 8))\n",
        "plt.scatter(forfires.temp, forfires.lgarea, c = 'red', )\n",
        "plt.xlabel('Температура, С', fontdict={'fontsize':14})\n",
        "plt.ylabel('Логарифм площади пожара в га', fontdict={'fontsize':14})\n",
        "plt.title('Диаграмма рассеивания температуры и логарифма площади лесных пожаров', fontdict={'fontsize':16})\n",
        "plt.show()"
      ],
      "execution_count": null,
      "outputs": [
        {
          "output_type": "display_data",
          "data": {
            "image/png": "[encoded data removed]",
            "text/plain": [
              "<Figure size 1080x576 with 1 Axes>"
            ]
          },
          "metadata": {
            "tags": [],
            "needs_background": "light"
          }
        }
      ]
    },
    {
      "cell_type": "code",
      "metadata": {
        "id": "bJiQgI3OMPTu",
        "colab_type": "code",
        "colab": {
          "base_uri": "https://localhost:8080/",
          "height": 518
        },
        "outputId": "5ffdadd8-3e98-41c8-dbef-5cdd4370cfc9"
      },
      "source": [
        "plt.figure(figsize=(15, 8))\n",
        "plt.scatter(forfires.RH, forfires.lgarea, c = 'red', )\n",
        "plt.xlabel('Относительная влажность, %', fontdict={'fontsize':14})\n",
        "plt.ylabel('Логарифм площади пожара в га', fontdict={'fontsize':14})\n",
        "plt.title('Диаграмма рассеивания относительной влажности и логарифма площади лесных пожаров', fontdict={'fontsize':16})\n",
        "plt.show()"
      ],
      "execution_count": null,
      "outputs": [
        {
          "output_type": "display_data",
          "data": {
            "image/png": "[encoded data removed]",
            "text/plain": [
              "<Figure size 1080x576 with 1 Axes>"
            ]
          },
          "metadata": {
            "tags": [],
            "needs_background": "light"
          }
        }
      ]
    },
    {
      "cell_type": "code",
      "metadata": {
        "id": "ZIu_kE9EOBYl",
        "colab_type": "code",
        "colab": {
          "base_uri": "https://localhost:8080/",
          "height": 518
        },
        "outputId": "b2afa16e-4cf8-44e5-cc7e-e76b8514d012"
      },
      "source": [
        "plt.figure(figsize=(15, 8))\n",
        "plt.scatter(forfires.wind, forfires.lgarea, c = 'blue', )\n",
        "plt.xlabel('Скорость ветра,км/ч', fontdict={'fontsize':14})\n",
        "plt.ylabel('Логарифм площади пожара в га', fontdict={'fontsize':14})\n",
        "plt.title('Диаграмма рассеивания скорости ветра и логарифма площади лесных пожаров', fontdict={'fontsize':16})\n",
        "plt.show()"
      ],
      "execution_count": null,
      "outputs": [
        {
          "output_type": "display_data",
          "data": {
            "image/png": "[encoded data removed]",
            "text/plain": [
              "<Figure size 1080x576 with 1 Axes>"
            ]
          },
          "metadata": {
            "tags": [],
            "needs_background": "light"
          }
        }
      ]
    },
    {
      "cell_type": "code",
      "metadata": {
        "id": "cJD-5RsIOBme",
        "colab_type": "code",
        "colab": {
          "base_uri": "https://localhost:8080/",
          "height": 518
        },
        "outputId": "774fff4c-fefe-4ad4-b017-541fe14fce86"
      },
      "source": [
        "plt.figure(figsize=(15, 8))\n",
        "plt.scatter(forfires.fmonth, forfires.lgarea, c = 'blue', )\n",
        "plt.xlabel('Месяц', fontdict={'fontsize':14})\n",
        "plt.ylabel('Логарифм площади пожара в га', fontdict={'fontsize':14})\n",
        "plt.title('Диаграмма рассеивания месяца и логарифма площади лесных пожаров', fontdict={'fontsize':16})\n",
        "plt.show()"
      ],
      "execution_count": null,
      "outputs": [
        {
          "output_type": "display_data",
          "data": {
            "image/png": "[encoded data removed]",
            "text/plain": [
              "<Figure size 1080x576 with 1 Axes>"
            ]
          },
          "metadata": {
            "tags": [],
            "needs_background": "light"
          }
        }
      ]
    },
    {
      "cell_type": "code",
      "metadata": {
        "id": "wN8cJexkOByu",
        "colab_type": "code",
        "colab": {
          "base_uri": "https://localhost:8080/",
          "height": 518
        },
        "outputId": "cc36b076-4403-4b47-9c02-ba8f0f963554"
      },
      "source": [
        "plt.figure(figsize=(15, 8))\n",
        "plt.scatter(forfires.fday, forfires.lgarea, c = 'blue', )\n",
        "plt.xlabel('День недели', fontdict={'fontsize':14})\n",
        "plt.ylabel('Логарифм площади пожара в га', fontdict={'fontsize':14})\n",
        "plt.title('Диаграмма рассеивания дня недели и логарифма площади лесных пожаров', fontdict={'fontsize':16})\n",
        "plt.show()"
      ],
      "execution_count": null,
      "outputs": [
        {
          "output_type": "display_data",
          "data": {
            "image/png": "[encoded data removed]",
            "text/plain": [
              "<Figure size 1080x576 with 1 Axes>"
            ]
          },
          "metadata": {
            "tags": [],
            "needs_background": "light"
          }
        }
      ]
    },
    {
      "cell_type": "code",
      "metadata": {
        "id": "rYd_S14jOB-s",
        "colab_type": "code",
        "colab": {
          "base_uri": "https://localhost:8080/",
          "height": 518
        },
        "outputId": "5b67268d-d331-402b-f65b-3d6da7f904f8"
      },
      "source": [
        "plt.figure(figsize=(15, 8))\n",
        "plt.scatter(forfires.FFMC, forfires.lgarea, c = 'red', )\n",
        "plt.xlabel('FFMC', fontdict={'fontsize':14})\n",
        "plt.ylabel('Логарифм площади пожара в га', fontdict={'fontsize':14})\n",
        "plt.title('Диаграмма рассеивания FFMC и логарифма площади лесных пожаров', fontdict={'fontsize':16})\n",
        "plt.show()"
      ],
      "execution_count": null,
      "outputs": [
        {
          "output_type": "display_data",
          "data": {
            "image/png": "[encoded data removed]",
            "text/plain": [
              "<Figure size 1080x576 with 1 Axes>"
            ]
          },
          "metadata": {
            "tags": [],
            "needs_background": "light"
          }
        }
      ]
    },
    {
      "cell_type": "code",
      "metadata": {
        "id": "amOBkuCuOCMQ",
        "colab_type": "code",
        "colab": {
          "base_uri": "https://localhost:8080/",
          "height": 518
        },
        "outputId": "136abbf5-f6b0-4354-a348-6775e873d37f"
      },
      "source": [
        "plt.figure(figsize=(15, 8))\n",
        "plt.scatter(forfires.DMC, forfires.lgarea, c = 'blue', )\n",
        "plt.xlabel('DMC', fontdict={'fontsize':14})\n",
        "plt.ylabel('Логарифм площади пожара в га', fontdict={'fontsize':14})\n",
        "plt.title('Диаграмма рассеивания DMC и логарифма площади лесных пожаров', fontdict={'fontsize':16})\n",
        "plt.show()"
      ],
      "execution_count": null,
      "outputs": [
        {
          "output_type": "display_data",
          "data": {
            "image/png": "[encoded data removed]",
            "text/plain": [
              "<Figure size 1080x576 with 1 Axes>"
            ]
          },
          "metadata": {
            "tags": [],
            "needs_background": "light"
          }
        }
      ]
    },
    {
      "cell_type": "code",
      "metadata": {
        "id": "I0jP_1V7Olgl",
        "colab_type": "code",
        "colab": {
          "base_uri": "https://localhost:8080/",
          "height": 518
        },
        "outputId": "bfd510e8-793d-4328-8756-8abdd6c7a178"
      },
      "source": [
        "plt.figure(figsize=(15, 8))\n",
        "plt.scatter(forfires.DC, forfires.lgarea, c = 'red', )\n",
        "plt.xlabel('DC', fontdict={'fontsize':14})\n",
        "plt.ylabel('Логарифм площади пожара в га', fontdict={'fontsize':14})\n",
        "plt.title('Диаграмма рассеивания DC и логарифма площади лесных пожаров', fontdict={'fontsize':16})\n",
        "plt.show()"
      ],
      "execution_count": null,
      "outputs": [
        {
          "output_type": "display_data",
          "data": {
            "image/png": "[encoded data removed]",
            "text/plain": [
              "<Figure size 1080x576 with 1 Axes>"
            ]
          },
          "metadata": {
            "tags": [],
            "needs_background": "light"
          }
        }
      ]
    },
    {
      "cell_type": "code",
      "metadata": {
        "id": "HPf6lyDROmZX",
        "colab_type": "code",
        "colab": {
          "base_uri": "https://localhost:8080/",
          "height": 518
        },
        "outputId": "68371694-24b4-461f-df2d-d274c7aea349"
      },
      "source": [
        "plt.figure(figsize=(15, 8))\n",
        "plt.scatter(forfires.ISI, forfires.lgarea, c = 'orange', )\n",
        "plt.xlabel('ISI', fontdict={'fontsize':14})\n",
        "plt.ylabel('Логарифм площади пожара в га', fontdict={'fontsize':14})\n",
        "plt.title('Диаграмма рассеивания ISI и логарифма площади лесных пожаров', fontdict={'fontsize':16})\n",
        "plt.show()"
      ],
      "execution_count": null,
      "outputs": [
        {
          "output_type": "display_data",
          "data": {
            "image/png": "[encoded data removed]",
            "text/plain": [
              "<Figure size 1080x576 with 1 Axes>"
            ]
          },
          "metadata": {
            "tags": [],
            "needs_background": "light"
          }
        }
      ]
    },
    {
      "cell_type": "code",
      "metadata": {
        "id": "Tbe6ZYmHOnE0",
        "colab_type": "code",
        "colab": {}
      },
      "source": [
        "plt.figure(figsize=(15, 8))\n",
        "plt.scatter(forfires.wind, forfires.lgarea, c = 'blue', )\n",
        "plt.xlabel('Скорость ветра,км/ч', fontdict={'fontsize':14})\n",
        "plt.ylabel('Логарифм площади пожара в га', fontdict={'fontsize':14})\n",
        "plt.title('Диаграмма рассеивания скорости ветра и логарифма площади лесных пожаров', fontdict={'fontsize':16})\n",
        "plt.show()"
      ],
      "execution_count": null,
      "outputs": []
    },
    {
      "cell_type": "markdown",
      "metadata": {
        "id": "NwCbDWvaOoea",
        "colab_type": "text"
      },
      "source": [
        ""
      ]
    },
    {
      "cell_type": "code",
      "metadata": {
        "id": "eQRqHe4iOo6W",
        "colab_type": "code",
        "colab": {}
      },
      "source": [
        "fire_model = forfires.drop(columns=['month', 'day'])"
      ],
      "execution_count": 11,
      "outputs": []
    },
    {
      "cell_type": "code",
      "metadata": {
        "id": "gars9iqmRCDR",
        "colab_type": "code",
        "colab": {
          "base_uri": "https://localhost:8080/",
          "height": 478
        },
        "outputId": "3fb18436-0c39-4879-bbc8-e12ae60f5a76"
      },
      "source": [
        "fire_model.corr()"
      ],
      "execution_count": null,
      "outputs": [
        {
          "output_type": "execute_result",
          "data": {
            "text/html": [
              "<div>\n",
              "<style scoped>\n",
              "    .dataframe tbody tr th:only-of-type {\n",
              "        vertical-align: middle;\n",
              "    }\n",
              "\n",
              "    .dataframe tbody tr th {\n",
              "        vertical-align: top;\n",
              "    }\n",
              "\n",
              "    .dataframe thead th {\n",
              "        text-align: right;\n",
              "    }\n",
              "</style>\n",
              "<table border=\"1\" class=\"dataframe\">\n",
              "  <thead>\n",
              "    <tr style=\"text-align: right;\">\n",
              "      <th></th>\n",
              "      <th>X</th>\n",
              "      <th>Y</th>\n",
              "      <th>FFMC</th>\n",
              "      <th>DMC</th>\n",
              "      <th>DC</th>\n",
              "      <th>ISI</th>\n",
              "      <th>temp</th>\n",
              "      <th>RH</th>\n",
              "      <th>wind</th>\n",
              "      <th>rain</th>\n",
              "      <th>area</th>\n",
              "      <th>fmonth</th>\n",
              "      <th>fday</th>\n",
              "      <th>lgarea</th>\n",
              "    </tr>\n",
              "  </thead>\n",
              "  <tbody>\n",
              "    <tr>\n",
              "      <th>X</th>\n",
              "      <td>1.000000</td>\n",
              "      <td>0.497039</td>\n",
              "      <td>-0.072176</td>\n",
              "      <td>-0.104614</td>\n",
              "      <td>-0.161281</td>\n",
              "      <td>-0.054832</td>\n",
              "      <td>-0.081485</td>\n",
              "      <td>0.064763</td>\n",
              "      <td>0.042686</td>\n",
              "      <td>0.055996</td>\n",
              "      <td>0.070316</td>\n",
              "      <td>-0.153776</td>\n",
              "      <td>-0.030853</td>\n",
              "      <td>0.019832</td>\n",
              "    </tr>\n",
              "    <tr>\n",
              "      <th>Y</th>\n",
              "      <td>0.497039</td>\n",
              "      <td>1.000000</td>\n",
              "      <td>-0.021123</td>\n",
              "      <td>0.037533</td>\n",
              "      <td>-0.034065</td>\n",
              "      <td>-0.071683</td>\n",
              "      <td>0.031705</td>\n",
              "      <td>-0.039081</td>\n",
              "      <td>-0.037208</td>\n",
              "      <td>0.028215</td>\n",
              "      <td>0.050242</td>\n",
              "      <td>0.035781</td>\n",
              "      <td>-0.017230</td>\n",
              "      <td>-0.011719</td>\n",
              "    </tr>\n",
              "    <tr>\n",
              "      <th>FFMC</th>\n",
              "      <td>-0.072176</td>\n",
              "      <td>-0.021123</td>\n",
              "      <td>1.000000</td>\n",
              "      <td>0.480250</td>\n",
              "      <td>0.407638</td>\n",
              "      <td>0.704170</td>\n",
              "      <td>0.562256</td>\n",
              "      <td>-0.285990</td>\n",
              "      <td>-0.161384</td>\n",
              "      <td>0.081447</td>\n",
              "      <td>0.054323</td>\n",
              "      <td>0.229697</td>\n",
              "      <td>0.075092</td>\n",
              "      <td>-0.045433</td>\n",
              "    </tr>\n",
              "    <tr>\n",
              "      <th>DMC</th>\n",
              "      <td>-0.104614</td>\n",
              "      <td>0.037533</td>\n",
              "      <td>0.480250</td>\n",
              "      <td>1.000000</td>\n",
              "      <td>0.668926</td>\n",
              "      <td>0.329656</td>\n",
              "      <td>0.501643</td>\n",
              "      <td>0.027861</td>\n",
              "      <td>-0.137897</td>\n",
              "      <td>0.075206</td>\n",
              "      <td>0.089088</td>\n",
              "      <td>0.371871</td>\n",
              "      <td>0.129982</td>\n",
              "      <td>0.029488</td>\n",
              "    </tr>\n",
              "    <tr>\n",
              "      <th>DC</th>\n",
              "      <td>-0.161281</td>\n",
              "      <td>-0.034065</td>\n",
              "      <td>0.407638</td>\n",
              "      <td>0.668926</td>\n",
              "      <td>1.000000</td>\n",
              "      <td>0.256826</td>\n",
              "      <td>0.495703</td>\n",
              "      <td>-0.082217</td>\n",
              "      <td>-0.237593</td>\n",
              "      <td>0.036377</td>\n",
              "      <td>0.046735</td>\n",
              "      <td>0.799946</td>\n",
              "      <td>0.036271</td>\n",
              "      <td>-0.029071</td>\n",
              "    </tr>\n",
              "    <tr>\n",
              "      <th>ISI</th>\n",
              "      <td>-0.054832</td>\n",
              "      <td>-0.071683</td>\n",
              "      <td>0.704170</td>\n",
              "      <td>0.329656</td>\n",
              "      <td>0.256826</td>\n",
              "      <td>1.000000</td>\n",
              "      <td>0.466027</td>\n",
              "      <td>-0.148804</td>\n",
              "      <td>0.072652</td>\n",
              "      <td>0.067225</td>\n",
              "      <td>0.002121</td>\n",
              "      <td>0.122184</td>\n",
              "      <td>0.012677</td>\n",
              "      <td>-0.110253</td>\n",
              "    </tr>\n",
              "    <tr>\n",
              "      <th>temp</th>\n",
              "      <td>-0.081485</td>\n",
              "      <td>0.031705</td>\n",
              "      <td>0.562256</td>\n",
              "      <td>0.501643</td>\n",
              "      <td>0.495703</td>\n",
              "      <td>0.466027</td>\n",
              "      <td>1.000000</td>\n",
              "      <td>-0.497548</td>\n",
              "      <td>-0.320563</td>\n",
              "      <td>0.080988</td>\n",
              "      <td>0.110293</td>\n",
              "      <td>0.242570</td>\n",
              "      <td>0.053348</td>\n",
              "      <td>-0.034502</td>\n",
              "    </tr>\n",
              "    <tr>\n",
              "      <th>RH</th>\n",
              "      <td>0.064763</td>\n",
              "      <td>-0.039081</td>\n",
              "      <td>-0.285990</td>\n",
              "      <td>0.027861</td>\n",
              "      <td>-0.082217</td>\n",
              "      <td>-0.148804</td>\n",
              "      <td>-0.497548</td>\n",
              "      <td>1.000000</td>\n",
              "      <td>0.138490</td>\n",
              "      <td>0.099920</td>\n",
              "      <td>-0.104846</td>\n",
              "      <td>-0.145031</td>\n",
              "      <td>0.142722</td>\n",
              "      <td>-0.049684</td>\n",
              "    </tr>\n",
              "    <tr>\n",
              "      <th>wind</th>\n",
              "      <td>0.042686</td>\n",
              "      <td>-0.037208</td>\n",
              "      <td>-0.161384</td>\n",
              "      <td>-0.137897</td>\n",
              "      <td>-0.237593</td>\n",
              "      <td>0.072652</td>\n",
              "      <td>-0.320563</td>\n",
              "      <td>0.138490</td>\n",
              "      <td>1.000000</td>\n",
              "      <td>0.049112</td>\n",
              "      <td>0.002086</td>\n",
              "      <td>-0.052002</td>\n",
              "      <td>0.029816</td>\n",
              "      <td>0.054650</td>\n",
              "    </tr>\n",
              "    <tr>\n",
              "      <th>rain</th>\n",
              "      <td>0.055996</td>\n",
              "      <td>0.028215</td>\n",
              "      <td>0.081447</td>\n",
              "      <td>0.075206</td>\n",
              "      <td>0.036377</td>\n",
              "      <td>0.067225</td>\n",
              "      <td>0.080988</td>\n",
              "      <td>0.099920</td>\n",
              "      <td>0.049112</td>\n",
              "      <td>1.000000</td>\n",
              "      <td>-0.012901</td>\n",
              "      <td>0.008284</td>\n",
              "      <td>-0.057505</td>\n",
              "      <td>0.011832</td>\n",
              "    </tr>\n",
              "    <tr>\n",
              "      <th>area</th>\n",
              "      <td>0.070316</td>\n",
              "      <td>0.050242</td>\n",
              "      <td>0.054323</td>\n",
              "      <td>0.089088</td>\n",
              "      <td>0.046735</td>\n",
              "      <td>0.002121</td>\n",
              "      <td>0.110293</td>\n",
              "      <td>-0.104846</td>\n",
              "      <td>0.002086</td>\n",
              "      <td>-0.012901</td>\n",
              "      <td>1.000000</td>\n",
              "      <td>0.047565</td>\n",
              "      <td>0.044566</td>\n",
              "      <td>0.533853</td>\n",
              "    </tr>\n",
              "    <tr>\n",
              "      <th>fmonth</th>\n",
              "      <td>-0.153776</td>\n",
              "      <td>0.035781</td>\n",
              "      <td>0.229697</td>\n",
              "      <td>0.371871</td>\n",
              "      <td>0.799946</td>\n",
              "      <td>0.122184</td>\n",
              "      <td>0.242570</td>\n",
              "      <td>-0.145031</td>\n",
              "      <td>-0.052002</td>\n",
              "      <td>0.008284</td>\n",
              "      <td>0.047565</td>\n",
              "      <td>1.000000</td>\n",
              "      <td>-0.066806</td>\n",
              "      <td>0.024512</td>\n",
              "    </tr>\n",
              "    <tr>\n",
              "      <th>fday</th>\n",
              "      <td>-0.030853</td>\n",
              "      <td>-0.017230</td>\n",
              "      <td>0.075092</td>\n",
              "      <td>0.129982</td>\n",
              "      <td>0.036271</td>\n",
              "      <td>0.012677</td>\n",
              "      <td>0.053348</td>\n",
              "      <td>0.142722</td>\n",
              "      <td>0.029816</td>\n",
              "      <td>-0.057505</td>\n",
              "      <td>0.044566</td>\n",
              "      <td>-0.066806</td>\n",
              "      <td>1.000000</td>\n",
              "      <td>0.071086</td>\n",
              "    </tr>\n",
              "    <tr>\n",
              "      <th>lgarea</th>\n",
              "      <td>0.019832</td>\n",
              "      <td>-0.011719</td>\n",
              "      <td>-0.045433</td>\n",
              "      <td>0.029488</td>\n",
              "      <td>-0.029071</td>\n",
              "      <td>-0.110253</td>\n",
              "      <td>-0.034502</td>\n",
              "      <td>-0.049684</td>\n",
              "      <td>0.054650</td>\n",
              "      <td>0.011832</td>\n",
              "      <td>0.533853</td>\n",
              "      <td>0.024512</td>\n",
              "      <td>0.071086</td>\n",
              "      <td>1.000000</td>\n",
              "    </tr>\n",
              "  </tbody>\n",
              "</table>\n",
              "</div>"
            ],
            "text/plain": [
              "               X         Y      FFMC  ...    fmonth      fday    lgarea\n",
              "X       1.000000  0.497039 -0.072176  ... -0.153776 -0.030853  0.019832\n",
              "Y       0.497039  1.000000 -0.021123  ...  0.035781 -0.017230 -0.011719\n",
              "FFMC   -0.072176 -0.021123  1.000000  ...  0.229697  0.075092 -0.045433\n",
              "DMC    -0.104614  0.037533  0.480250  ...  0.371871  0.129982  0.029488\n",
              "DC     -0.161281 -0.034065  0.407638  ...  0.799946  0.036271 -0.029071\n",
              "ISI    -0.054832 -0.071683  0.704170  ...  0.122184  0.012677 -0.110253\n",
              "temp   -0.081485  0.031705  0.562256  ...  0.242570  0.053348 -0.034502\n",
              "RH      0.064763 -0.039081 -0.285990  ... -0.145031  0.142722 -0.049684\n",
              "wind    0.042686 -0.037208 -0.161384  ... -0.052002  0.029816  0.054650\n",
              "rain    0.055996  0.028215  0.081447  ...  0.008284 -0.057505  0.011832\n",
              "area    0.070316  0.050242  0.054323  ...  0.047565  0.044566  0.533853\n",
              "fmonth -0.153776  0.035781  0.229697  ...  1.000000 -0.066806  0.024512\n",
              "fday   -0.030853 -0.017230  0.075092  ... -0.066806  1.000000  0.071086\n",
              "lgarea  0.019832 -0.011719 -0.045433  ...  0.024512  0.071086  1.000000\n",
              "\n",
              "[14 rows x 14 columns]"
            ]
          },
          "metadata": {
            "tags": []
          },
          "execution_count": 43
        }
      ]
    },
    {
      "cell_type": "markdown",
      "metadata": {
        "id": "Yd-AdACgSGle",
        "colab_type": "text"
      },
      "source": [
        "Наибольшее значение корреляции по модулю между ПЛП и 1) температурой 2) относительной влажностью\n",
        "3) DMC.\n",
        "\n",
        "Наибольшее значение корреляции по модулю между лПЛП и 1) ISI 2) wind, 3) RH\n",
        "\n",
        "Если судить о возможных переменных, с которыми может быть связана площадь лесных пожаров, то это\n",
        "скорее всего температура - чем она выше, тем больше вероятность возгорания, также скорость ветра - \n",
        "чем она выше, тем больше может распространиться пожар, а также влажность - чем она меньше,\n",
        "тем больше вероятность воспламенения лесного топлива. \n",
        "Анализ совместного распределения этих переменных показал невысокую степень линейной связи,\n",
        "но в то же время возможную нелинейную связь с температурой, относительной влажностью, DMC \n",
        "В данных также представлено несколько погодных индексов, в основном они отражают, как мне\n",
        "показалось, возможность возгорания различных растительных материалов в лесу, поэтому зависимость от\n",
        "них может быть положительной. \n",
        "\n",
        "Предварительная спецификация будет включать: \n",
        "\n",
        " температуру, \n",
        "\n",
        "  относительную влажность и \n",
        "\n",
        "   скорость ветра  - как непосредственные погодные характеристики, \n",
        "\n",
        " индекс ISI, \n",
        "\n",
        "  DMC, \n",
        "\n",
        "   квадрат температуры.\n",
        "\n",
        "Сразу стоит обратить внимание, что у показателя температуры довольно высокие значения корреляции\n",
        "со всеми из этих признаков.\n",
        "Я не стала включать показатели месяца и дня недели, поскольку считаю, что они скорее влияют\n",
        "на вероятность возникновения пожара, а так как мы отобрали наблюдения с ненулевыми ПЛП, то здесь\n",
        "влияние этих факторов вряд ли уже имеет большое значение"
      ]
    },
    {
      "cell_type": "code",
      "metadata": {
        "id": "eqnWAs99RCUd",
        "colab_type": "code",
        "colab": {
          "base_uri": "https://localhost:8080/",
          "height": 524
        },
        "outputId": "f489f613-f129-4b42-84b7-986f7a1fe54c"
      },
      "source": [
        "plt.figure(figsize=(20, 8))\n",
        "forfires.boxplot(column=['wind', 'temp', 'RH'], labels = ['Скорость ветра, км/ч', 'Температура, С', 'Относительная влажность, %'], fontsize=16)\n",
        "plt.title('Скорость ветра, км/ч                    Температура, С                  Относительная влажность, %', fontdict={'fontsize':16})\n",
        "plt.legend(fontsize=16)\n",
        "plt.show()"
      ],
      "execution_count": null,
      "outputs": [
        {
          "output_type": "stream",
          "text": [
            "No handles with labels found to put in legend.\n"
          ],
          "name": "stderr"
        },
        {
          "output_type": "display_data",
          "data": {
            "image/png": "[encoded data removed]",
            "text/plain": [
              "<Figure size 1440x576 with 1 Axes>"
            ]
          },
          "metadata": {
            "tags": [],
            "needs_background": "light"
          }
        }
      ]
    },
    {
      "cell_type": "code",
      "metadata": {
        "id": "I2EJAc6ORCdv",
        "colab_type": "code",
        "colab": {
          "base_uri": "https://localhost:8080/",
          "height": 506
        },
        "outputId": "4e25c951-3263-4d96-b4a1-9e691193c236"
      },
      "source": [
        "plt.figure(figsize=(15, 8))\n",
        "forfires.boxplot(column=['FFMC'], fontsize=16)\n",
        "plt.title('FFMC', fontdict={'fontsize':16})\n",
        "plt.show()"
      ],
      "execution_count": null,
      "outputs": [
        {
          "output_type": "display_data",
          "data": {
            "image/png": "[encoded data removed]",
            "text/plain": [
              "<Figure size 1080x576 with 1 Axes>"
            ]
          },
          "metadata": {
            "tags": [],
            "needs_background": "light"
          }
        }
      ]
    },
    {
      "cell_type": "code",
      "metadata": {
        "id": "A5VSJ28Yhu1N",
        "colab_type": "code",
        "colab": {
          "base_uri": "https://localhost:8080/",
          "height": 506
        },
        "outputId": "531f65e4-09de-4f38-8a1a-0bbaa0aad9e9"
      },
      "source": [
        "plt.figure(figsize=(15, 8))\n",
        "forfires.boxplot(column=['DMC'], fontsize=16)\n",
        "plt.title('DMC', fontdict={'fontsize':16})\n",
        "plt.show()"
      ],
      "execution_count": null,
      "outputs": [
        {
          "output_type": "display_data",
          "data": {
            "image/png": "[encoded data removed]",
            "text/plain": [
              "<Figure size 1080x576 with 1 Axes>"
            ]
          },
          "metadata": {
            "tags": [],
            "needs_background": "light"
          }
        }
      ]
    },
    {
      "cell_type": "code",
      "metadata": {
        "id": "YfzPkltVhvZv",
        "colab_type": "code",
        "colab": {
          "base_uri": "https://localhost:8080/",
          "height": 506
        },
        "outputId": "eb3538fe-d32f-4c0b-9ff2-9ce6b9d87b25"
      },
      "source": [
        "plt.figure(figsize=(15, 8))\n",
        "forfires.boxplot(column=['DC'], fontsize=16)\n",
        "plt.title('DC', fontdict={'fontsize':16})\n",
        "plt.show()"
      ],
      "execution_count": null,
      "outputs": [
        {
          "output_type": "display_data",
          "data": {
            "image/png": "[encoded data removed]",
            "text/plain": [
              "<Figure size 1080x576 with 1 Axes>"
            ]
          },
          "metadata": {
            "tags": [],
            "needs_background": "light"
          }
        }
      ]
    },
    {
      "cell_type": "code",
      "metadata": {
        "id": "DA54D4o8hvrr",
        "colab_type": "code",
        "colab": {
          "base_uri": "https://localhost:8080/",
          "height": 506
        },
        "outputId": "e609a16f-8d86-4157-aa90-62d265928b15"
      },
      "source": [
        "plt.figure(figsize=(15, 8))\n",
        "forfires.boxplot(column=['ISI'], fontsize=16)\n",
        "plt.title('ISI', fontdict={'fontsize':16})\n",
        "plt.show()"
      ],
      "execution_count": null,
      "outputs": [
        {
          "output_type": "display_data",
          "data": {
            "image/png": "[encoded data removed]",
            "text/plain": [
              "<Figure size 1080x576 with 1 Axes>"
            ]
          },
          "metadata": {
            "tags": [],
            "needs_background": "light"
          }
        }
      ]
    },
    {
      "cell_type": "markdown",
      "metadata": {
        "id": "9-ZPhUnehwN3",
        "colab_type": "text"
      },
      "source": [
        ""
      ]
    },
    {
      "cell_type": "code",
      "metadata": {
        "id": "7aGE_mk8iA8y",
        "colab_type": "code",
        "colab": {
          "base_uri": "https://localhost:8080/",
          "height": 121
        },
        "outputId": "4d0bd7a4-dc71-4925-e1a4-7cc192398cb0"
      },
      "source": [
        "forfires['tempsq'] = forfires['temp'].apply(lambda x: x**2)"
      ],
      "execution_count": 12,
      "outputs": [
        {
          "output_type": "stream",
          "text": [
            "/usr/local/lib/python3.6/dist-packages/ipykernel_launcher.py:1: SettingWithCopyWarning: \n",
            "A value is trying to be set on a copy of a slice from a DataFrame.\n",
            "Try using .loc[row_indexer,col_indexer] = value instead\n",
            "\n",
            "See the caveats in the documentation: https://pandas.pydata.org/pandas-docs/stable/user_guide/indexing.html#returning-a-view-versus-a-copy\n",
            "  \"\"\"Entry point for launching an IPython kernel.\n"
          ],
          "name": "stderr"
        }
      ]
    },
    {
      "cell_type": "code",
      "metadata": {
        "id": "Qn5u0Ur7iBIP",
        "colab_type": "code",
        "colab": {
          "base_uri": "https://localhost:8080/",
          "height": 501
        },
        "outputId": "d3c31c6e-8c14-4319-e7aa-0fe746177e0b"
      },
      "source": [
        "plt.figure(figsize=(15, 8))\n",
        "plt.hist(forfires.tempsq, bins=200)\n",
        "plt.title('Квадрат температуры', fontdict={'fontsize':16})\n",
        "plt.show()"
      ],
      "execution_count": null,
      "outputs": [
        {
          "output_type": "display_data",
          "data": {
            "image/png": "[encoded data removed]",
            "text/plain": [
              "<Figure size 1080x576 with 1 Axes>"
            ]
          },
          "metadata": {
            "tags": [],
            "needs_background": "light"
          }
        }
      ]
    },
    {
      "cell_type": "code",
      "metadata": {
        "id": "Qrnjg7cCiBY4",
        "colab_type": "code",
        "colab": {
          "base_uri": "https://localhost:8080/",
          "height": 506
        },
        "outputId": "c1967de5-54b5-4406-99bb-5fec1a7965b8"
      },
      "source": [
        "plt.figure(figsize=(15, 8))\n",
        "forfires.boxplot(column=['tempsq'], fontsize=16)\n",
        "plt.title('Квадрат температуры', fontdict={'fontsize':16})\n",
        "plt.show()"
      ],
      "execution_count": null,
      "outputs": [
        {
          "output_type": "display_data",
          "data": {
            "image/png": "[encoded data removed]",
            "text/plain": [
              "<Figure size 1080x576 with 1 Axes>"
            ]
          },
          "metadata": {
            "tags": [],
            "needs_background": "light"
          }
        }
      ]
    },
    {
      "cell_type": "code",
      "metadata": {
        "id": "OzBkD8AootXO",
        "colab_type": "code",
        "colab": {
          "base_uri": "https://localhost:8080/",
          "height": 506
        },
        "outputId": "4d99c344-0e8c-47fc-ca92-3ea4a2826fa4"
      },
      "source": [
        "plt.figure(figsize=(15, 8))\n",
        "forfires.boxplot(column=['lgarea'], fontsize=16)\n",
        "plt.title('Логарифм площади пожара в га', fontdict={'fontsize':16})\n",
        "plt.show()"
      ],
      "execution_count": null,
      "outputs": [
        {
          "output_type": "display_data",
          "data": {
            "image/png": "[encoded data removed]",
            "text/plain": [
              "<Figure size 1080x576 with 1 Axes>"
            ]
          },
          "metadata": {
            "tags": [],
            "needs_background": "light"
          }
        }
      ]
    },
    {
      "cell_type": "markdown",
      "metadata": {
        "id": "_42X2bIxjPgy",
        "colab_type": "text"
      },
      "source": [
        "Посмотрев на данные, можно увидеть, что большинство из имеющихся параметров распределены относительны сбалансированно, однако по всем показателям встречаются выбросы либо с слишком низкими, либо со слишком высокими значениями показателей, как целевой, так и объясняющих переменных.\n",
        "\n",
        "Выбросы по целевой переменной можно удалить, но по объясняющим переменным такого делать не следует.\n",
        "\n"
      ]
    },
    {
      "cell_type": "markdown",
      "metadata": {
        "id": "DnBIBlXcqYH5",
        "colab_type": "text"
      },
      "source": [
        "**Описательные статистики данных**"
      ]
    },
    {
      "cell_type": "code",
      "metadata": {
        "id": "SsVb1B77iBlf",
        "colab_type": "code",
        "colab": {
          "base_uri": "https://localhost:8080/",
          "height": 294
        },
        "outputId": "4088ceea-1e9b-4882-a16c-40e888127b24"
      },
      "source": [
        "forfires.describe()"
      ],
      "execution_count": 21,
      "outputs": [
        {
          "output_type": "execute_result",
          "data": {
            "text/html": [
              "<div>\n",
              "<style scoped>\n",
              "    .dataframe tbody tr th:only-of-type {\n",
              "        vertical-align: middle;\n",
              "    }\n",
              "\n",
              "    .dataframe tbody tr th {\n",
              "        vertical-align: top;\n",
              "    }\n",
              "\n",
              "    .dataframe thead th {\n",
              "        text-align: right;\n",
              "    }\n",
              "</style>\n",
              "<table border=\"1\" class=\"dataframe\">\n",
              "  <thead>\n",
              "    <tr style=\"text-align: right;\">\n",
              "      <th></th>\n",
              "      <th>const</th>\n",
              "      <th>X</th>\n",
              "      <th>Y</th>\n",
              "      <th>FFMC</th>\n",
              "      <th>DMC</th>\n",
              "      <th>DC</th>\n",
              "      <th>ISI</th>\n",
              "      <th>temp</th>\n",
              "      <th>RH</th>\n",
              "      <th>wind</th>\n",
              "      <th>rain</th>\n",
              "      <th>area</th>\n",
              "      <th>fmonth</th>\n",
              "      <th>fday</th>\n",
              "      <th>lgarea</th>\n",
              "      <th>tempsq</th>\n",
              "    </tr>\n",
              "  </thead>\n",
              "  <tbody>\n",
              "    <tr>\n",
              "      <th>count</th>\n",
              "      <td>270.0</td>\n",
              "      <td>270.000000</td>\n",
              "      <td>270.000000</td>\n",
              "      <td>270.000000</td>\n",
              "      <td>270.000000</td>\n",
              "      <td>270.000000</td>\n",
              "      <td>270.000000</td>\n",
              "      <td>270.000000</td>\n",
              "      <td>270.000000</td>\n",
              "      <td>270.000000</td>\n",
              "      <td>270.000000</td>\n",
              "      <td>270.000000</td>\n",
              "      <td>270.000000</td>\n",
              "      <td>270.000000</td>\n",
              "      <td>270.000000</td>\n",
              "      <td>270.000000</td>\n",
              "    </tr>\n",
              "    <tr>\n",
              "      <th>mean</th>\n",
              "      <td>1.0</td>\n",
              "      <td>4.807407</td>\n",
              "      <td>4.366667</td>\n",
              "      <td>91.034074</td>\n",
              "      <td>114.707778</td>\n",
              "      <td>570.867037</td>\n",
              "      <td>9.177037</td>\n",
              "      <td>19.311111</td>\n",
              "      <td>43.733333</td>\n",
              "      <td>4.112963</td>\n",
              "      <td>0.028889</td>\n",
              "      <td>24.600185</td>\n",
              "      <td>7.759259</td>\n",
              "      <td>4.174074</td>\n",
              "      <td>1.844831</td>\n",
              "      <td>410.963111</td>\n",
              "    </tr>\n",
              "    <tr>\n",
              "      <th>std</th>\n",
              "      <td>0.0</td>\n",
              "      <td>2.383326</td>\n",
              "      <td>1.170740</td>\n",
              "      <td>3.709020</td>\n",
              "      <td>61.786520</td>\n",
              "      <td>229.981242</td>\n",
              "      <td>4.147350</td>\n",
              "      <td>6.179444</td>\n",
              "      <td>15.080059</td>\n",
              "      <td>1.884573</td>\n",
              "      <td>0.398392</td>\n",
              "      <td>86.501635</td>\n",
              "      <td>2.115048</td>\n",
              "      <td>2.070162</td>\n",
              "      <td>1.526712</td>\n",
              "      <td>225.041908</td>\n",
              "    </tr>\n",
              "    <tr>\n",
              "      <th>min</th>\n",
              "      <td>1.0</td>\n",
              "      <td>1.000000</td>\n",
              "      <td>2.000000</td>\n",
              "      <td>63.500000</td>\n",
              "      <td>3.200000</td>\n",
              "      <td>15.300000</td>\n",
              "      <td>0.800000</td>\n",
              "      <td>2.200000</td>\n",
              "      <td>15.000000</td>\n",
              "      <td>0.400000</td>\n",
              "      <td>0.000000</td>\n",
              "      <td>0.090000</td>\n",
              "      <td>2.000000</td>\n",
              "      <td>1.000000</td>\n",
              "      <td>-2.407946</td>\n",
              "      <td>4.840000</td>\n",
              "    </tr>\n",
              "    <tr>\n",
              "      <th>25%</th>\n",
              "      <td>1.0</td>\n",
              "      <td>3.000000</td>\n",
              "      <td>4.000000</td>\n",
              "      <td>90.325000</td>\n",
              "      <td>82.900000</td>\n",
              "      <td>486.500000</td>\n",
              "      <td>6.800000</td>\n",
              "      <td>16.125000</td>\n",
              "      <td>33.000000</td>\n",
              "      <td>2.700000</td>\n",
              "      <td>0.000000</td>\n",
              "      <td>2.140000</td>\n",
              "      <td>8.000000</td>\n",
              "      <td>2.000000</td>\n",
              "      <td>0.760806</td>\n",
              "      <td>260.017500</td>\n",
              "    </tr>\n",
              "    <tr>\n",
              "      <th>50%</th>\n",
              "      <td>1.0</td>\n",
              "      <td>5.000000</td>\n",
              "      <td>4.000000</td>\n",
              "      <td>91.700000</td>\n",
              "      <td>111.700000</td>\n",
              "      <td>665.600000</td>\n",
              "      <td>8.400000</td>\n",
              "      <td>20.100000</td>\n",
              "      <td>41.000000</td>\n",
              "      <td>4.000000</td>\n",
              "      <td>0.000000</td>\n",
              "      <td>6.370000</td>\n",
              "      <td>8.000000</td>\n",
              "      <td>4.000000</td>\n",
              "      <td>1.851598</td>\n",
              "      <td>404.010000</td>\n",
              "    </tr>\n",
              "    <tr>\n",
              "      <th>75%</th>\n",
              "      <td>1.0</td>\n",
              "      <td>7.000000</td>\n",
              "      <td>5.000000</td>\n",
              "      <td>92.975000</td>\n",
              "      <td>141.300000</td>\n",
              "      <td>721.325000</td>\n",
              "      <td>11.375000</td>\n",
              "      <td>23.400000</td>\n",
              "      <td>53.000000</td>\n",
              "      <td>4.900000</td>\n",
              "      <td>0.000000</td>\n",
              "      <td>15.422500</td>\n",
              "      <td>9.000000</td>\n",
              "      <td>6.000000</td>\n",
              "      <td>2.735823</td>\n",
              "      <td>547.560000</td>\n",
              "    </tr>\n",
              "    <tr>\n",
              "      <th>max</th>\n",
              "      <td>1.0</td>\n",
              "      <td>9.000000</td>\n",
              "      <td>9.000000</td>\n",
              "      <td>96.200000</td>\n",
              "      <td>291.300000</td>\n",
              "      <td>860.600000</td>\n",
              "      <td>22.700000</td>\n",
              "      <td>33.300000</td>\n",
              "      <td>96.000000</td>\n",
              "      <td>9.400000</td>\n",
              "      <td>6.400000</td>\n",
              "      <td>1090.840000</td>\n",
              "      <td>12.000000</td>\n",
              "      <td>7.000000</td>\n",
              "      <td>6.994703</td>\n",
              "      <td>1108.890000</td>\n",
              "    </tr>\n",
              "  </tbody>\n",
              "</table>\n",
              "</div>"
            ],
            "text/plain": [
              "       const           X           Y  ...        fday      lgarea       tempsq\n",
              "count  270.0  270.000000  270.000000  ...  270.000000  270.000000   270.000000\n",
              "mean     1.0    4.807407    4.366667  ...    4.174074    1.844831   410.963111\n",
              "std      0.0    2.383326    1.170740  ...    2.070162    1.526712   225.041908\n",
              "min      1.0    1.000000    2.000000  ...    1.000000   -2.407946     4.840000\n",
              "25%      1.0    3.000000    4.000000  ...    2.000000    0.760806   260.017500\n",
              "50%      1.0    5.000000    4.000000  ...    4.000000    1.851598   404.010000\n",
              "75%      1.0    7.000000    5.000000  ...    6.000000    2.735823   547.560000\n",
              "max      1.0    9.000000    9.000000  ...    7.000000    6.994703  1108.890000\n",
              "\n",
              "[8 rows x 16 columns]"
            ]
          },
          "metadata": {
            "tags": []
          },
          "execution_count": 21
        }
      ]
    },
    {
      "cell_type": "markdown",
      "metadata": {
        "id": "CjDqldOqjbb3",
        "colab_type": "text"
      },
      "source": [
        "Судя по значениям описательных статистик, разброс у выбранных параметров не очень высокий - все коэффициенты вариации меньше 1,\n",
        "у всех параметров кроме температуры и логарифма площади пожаров медиана ниже среднего, что говорит о смещенности в сторону высоких\n",
        "значений у этих показателей.\n",
        "\n",
        "Можно также заметить, что логарифмирование целевой переменной значительно снизило её разброс (коэффициент вариации стал меньше 1)."
      ]
    },
    {
      "cell_type": "code",
      "metadata": {
        "id": "aIZU3Mi_n3Lx",
        "colab_type": "code",
        "colab": {}
      },
      "source": [
        "forfires = forfires.drop(columns=['month', 'day'])"
      ],
      "execution_count": 22,
      "outputs": []
    },
    {
      "cell_type": "code",
      "metadata": {
        "id": "xaohg178iByM",
        "colab_type": "code",
        "colab": {}
      },
      "source": [
        "from scipy.stats import shapiro"
      ],
      "execution_count": null,
      "outputs": []
    },
    {
      "cell_type": "markdown",
      "metadata": {
        "id": "wmpen3p3qilk",
        "colab_type": "text"
      },
      "source": [
        "Проверим наши данные на нормальность"
      ]
    },
    {
      "cell_type": "code",
      "metadata": {
        "id": "RSPFolNfiB9W",
        "colab_type": "code",
        "colab": {
          "base_uri": "https://localhost:8080/",
          "height": 277
        },
        "outputId": "e7d48c92-aea4-462a-d130-c4c46ec887de"
      },
      "source": [
        "for col in forfires.columns:\n",
        "  if shapiro(forfires[col])[1] <= 0.05:\n",
        "    print(col, 'Гипотеза о нормальности отвергается')\n",
        "  else:\n",
        "    print(col, 'Гипотеза о нормальности не отвергается')"
      ],
      "execution_count": null,
      "outputs": [
        {
          "output_type": "stream",
          "text": [
            "X Гипотеза о нормальности отвергается\n",
            "Y Гипотеза о нормальности отвергается\n",
            "FFMC Гипотеза о нормальности отвергается\n",
            "DMC Гипотеза о нормальности отвергается\n",
            "DC Гипотеза о нормальности отвергается\n",
            "ISI Гипотеза о нормальности отвергается\n",
            "temp Гипотеза о нормальности отвергается\n",
            "RH Гипотеза о нормальности отвергается\n",
            "wind Гипотеза о нормальности отвергается\n",
            "rain Гипотеза о нормальности отвергается\n",
            "area Гипотеза о нормальности отвергается\n",
            "fmonth Гипотеза о нормальности отвергается\n",
            "fday Гипотеза о нормальности отвергается\n",
            "lgarea Гипотеза о нормальности не отвергается\n",
            "tempsq Гипотеза о нормальности отвергается\n"
          ],
          "name": "stdout"
        }
      ]
    },
    {
      "cell_type": "markdown",
      "metadata": {
        "id": "jOPGHGFZoMH4",
        "colab_type": "text"
      },
      "source": [
        "Все показатели, кроме логарифма площади пожаров, не подчиняется нормальному распределению"
      ]
    },
    {
      "cell_type": "code",
      "metadata": {
        "id": "9Y6dcvgeoMqU",
        "colab_type": "code",
        "colab": {}
      },
      "source": [
        ""
      ],
      "execution_count": null,
      "outputs": []
    },
    {
      "cell_type": "markdown",
      "metadata": {
        "id": "WjSjKFM9rgZA",
        "colab_type": "text"
      },
      "source": [
        "###**Проверьте, есть ли в ваших данных мультиколлинеарность. Используйте для этого VIF и CN. Если мультиколлинеарность присутствует, разберитесь с ней как настоящие ковбои.**"
      ]
    },
    {
      "cell_type": "markdown",
      "metadata": {
        "id": "nILPTq8Iry--",
        "colab_type": "text"
      },
      "source": [
        "Создадим матрицу X регрессоров модели"
      ]
    },
    {
      "cell_type": "code",
      "metadata": {
        "id": "LxAy6wYQtl_A",
        "colab_type": "code",
        "colab": {}
      },
      "source": [
        "from statsmodels.stats.outliers_influence import variance_inflation_factor\n",
        "from statsmodels.tools.tools import add_constant"
      ],
      "execution_count": 15,
      "outputs": []
    },
    {
      "cell_type": "code",
      "metadata": {
        "id": "TUdbM9_9tCLF",
        "colab_type": "code",
        "colab": {}
      },
      "source": [
        "forfires= add_constant(forfires)"
      ],
      "execution_count": 23,
      "outputs": []
    },
    {
      "cell_type": "code",
      "metadata": {
        "id": "XFtfcuzDtrvr",
        "colab_type": "code",
        "colab": {
          "base_uri": "https://localhost:8080/",
          "height": 202
        },
        "outputId": "3e0d73be-f971-4b54-d420-e4854859cccc"
      },
      "source": [
        "forfires.head()"
      ],
      "execution_count": null,
      "outputs": [
        {
          "output_type": "execute_result",
          "data": {
            "text/html": [
              "<div>\n",
              "<style scoped>\n",
              "    .dataframe tbody tr th:only-of-type {\n",
              "        vertical-align: middle;\n",
              "    }\n",
              "\n",
              "    .dataframe tbody tr th {\n",
              "        vertical-align: top;\n",
              "    }\n",
              "\n",
              "    .dataframe thead th {\n",
              "        text-align: right;\n",
              "    }\n",
              "</style>\n",
              "<table border=\"1\" class=\"dataframe\">\n",
              "  <thead>\n",
              "    <tr style=\"text-align: right;\">\n",
              "      <th></th>\n",
              "      <th>X</th>\n",
              "      <th>Y</th>\n",
              "      <th>FFMC</th>\n",
              "      <th>DMC</th>\n",
              "      <th>DC</th>\n",
              "      <th>ISI</th>\n",
              "      <th>temp</th>\n",
              "      <th>RH</th>\n",
              "      <th>wind</th>\n",
              "      <th>rain</th>\n",
              "      <th>area</th>\n",
              "      <th>fmonth</th>\n",
              "      <th>fday</th>\n",
              "      <th>lgarea</th>\n",
              "      <th>tempsq</th>\n",
              "      <th>const</th>\n",
              "    </tr>\n",
              "  </thead>\n",
              "  <tbody>\n",
              "    <tr>\n",
              "      <th>138</th>\n",
              "      <td>9</td>\n",
              "      <td>9</td>\n",
              "      <td>85.8</td>\n",
              "      <td>48.3</td>\n",
              "      <td>313.4</td>\n",
              "      <td>3.9</td>\n",
              "      <td>18.0</td>\n",
              "      <td>42</td>\n",
              "      <td>2.7</td>\n",
              "      <td>0.0</td>\n",
              "      <td>0.36</td>\n",
              "      <td>7</td>\n",
              "      <td>2</td>\n",
              "      <td>-1.021651</td>\n",
              "      <td>324.00</td>\n",
              "      <td>1.0</td>\n",
              "    </tr>\n",
              "    <tr>\n",
              "      <th>139</th>\n",
              "      <td>1</td>\n",
              "      <td>4</td>\n",
              "      <td>91.0</td>\n",
              "      <td>129.5</td>\n",
              "      <td>692.6</td>\n",
              "      <td>7.0</td>\n",
              "      <td>21.7</td>\n",
              "      <td>38</td>\n",
              "      <td>2.2</td>\n",
              "      <td>0.0</td>\n",
              "      <td>0.43</td>\n",
              "      <td>9</td>\n",
              "      <td>2</td>\n",
              "      <td>-0.843970</td>\n",
              "      <td>470.89</td>\n",
              "      <td>1.0</td>\n",
              "    </tr>\n",
              "    <tr>\n",
              "      <th>140</th>\n",
              "      <td>2</td>\n",
              "      <td>5</td>\n",
              "      <td>90.9</td>\n",
              "      <td>126.5</td>\n",
              "      <td>686.5</td>\n",
              "      <td>7.0</td>\n",
              "      <td>21.9</td>\n",
              "      <td>39</td>\n",
              "      <td>1.8</td>\n",
              "      <td>0.0</td>\n",
              "      <td>0.47</td>\n",
              "      <td>9</td>\n",
              "      <td>1</td>\n",
              "      <td>-0.755023</td>\n",
              "      <td>479.61</td>\n",
              "      <td>1.0</td>\n",
              "    </tr>\n",
              "    <tr>\n",
              "      <th>141</th>\n",
              "      <td>1</td>\n",
              "      <td>2</td>\n",
              "      <td>95.5</td>\n",
              "      <td>99.9</td>\n",
              "      <td>513.3</td>\n",
              "      <td>13.2</td>\n",
              "      <td>23.3</td>\n",
              "      <td>31</td>\n",
              "      <td>4.5</td>\n",
              "      <td>0.0</td>\n",
              "      <td>0.55</td>\n",
              "      <td>8</td>\n",
              "      <td>3</td>\n",
              "      <td>-0.597837</td>\n",
              "      <td>542.89</td>\n",
              "      <td>1.0</td>\n",
              "    </tr>\n",
              "    <tr>\n",
              "      <th>142</th>\n",
              "      <td>8</td>\n",
              "      <td>6</td>\n",
              "      <td>90.1</td>\n",
              "      <td>108.0</td>\n",
              "      <td>529.8</td>\n",
              "      <td>12.5</td>\n",
              "      <td>21.2</td>\n",
              "      <td>51</td>\n",
              "      <td>8.9</td>\n",
              "      <td>0.0</td>\n",
              "      <td>0.61</td>\n",
              "      <td>8</td>\n",
              "      <td>5</td>\n",
              "      <td>-0.494296</td>\n",
              "      <td>449.44</td>\n",
              "      <td>1.0</td>\n",
              "    </tr>\n",
              "  </tbody>\n",
              "</table>\n",
              "</div>"
            ],
            "text/plain": [
              "     X  Y  FFMC    DMC     DC  ...  fmonth  fday    lgarea  tempsq  const\n",
              "138  9  9  85.8   48.3  313.4  ...       7     2 -1.021651  324.00    1.0\n",
              "139  1  4  91.0  129.5  692.6  ...       9     2 -0.843970  470.89    1.0\n",
              "140  2  5  90.9  126.5  686.5  ...       9     1 -0.755023  479.61    1.0\n",
              "141  1  2  95.5   99.9  513.3  ...       8     3 -0.597837  542.89    1.0\n",
              "142  8  6  90.1  108.0  529.8  ...       8     5 -0.494296  449.44    1.0\n",
              "\n",
              "[5 rows x 16 columns]"
            ]
          },
          "metadata": {
            "tags": []
          },
          "execution_count": 92
        }
      ]
    },
    {
      "cell_type": "code",
      "metadata": {
        "id": "HYzyhIlyoM2T",
        "colab_type": "code",
        "colab": {}
      },
      "source": [
        "X_fire = forfires.drop(columns=['X', 'Y', 'FFMC', 'DC', 'rain', 'area', 'lgarea', 'fmonth', 'fday'])"
      ],
      "execution_count": 24,
      "outputs": []
    },
    {
      "cell_type": "code",
      "metadata": {
        "id": "5IDkkXfXtXnS",
        "colab_type": "code",
        "colab": {
          "base_uri": "https://localhost:8080/",
          "height": 202
        },
        "outputId": "01fff9c9-0ada-4eb6-af64-ea071144129a"
      },
      "source": [
        "X_fire.head()"
      ],
      "execution_count": null,
      "outputs": [
        {
          "output_type": "execute_result",
          "data": {
            "text/html": [
              "<div>\n",
              "<style scoped>\n",
              "    .dataframe tbody tr th:only-of-type {\n",
              "        vertical-align: middle;\n",
              "    }\n",
              "\n",
              "    .dataframe tbody tr th {\n",
              "        vertical-align: top;\n",
              "    }\n",
              "\n",
              "    .dataframe thead th {\n",
              "        text-align: right;\n",
              "    }\n",
              "</style>\n",
              "<table border=\"1\" class=\"dataframe\">\n",
              "  <thead>\n",
              "    <tr style=\"text-align: right;\">\n",
              "      <th></th>\n",
              "      <th>DMC</th>\n",
              "      <th>ISI</th>\n",
              "      <th>temp</th>\n",
              "      <th>RH</th>\n",
              "      <th>wind</th>\n",
              "      <th>tempsq</th>\n",
              "      <th>const</th>\n",
              "    </tr>\n",
              "  </thead>\n",
              "  <tbody>\n",
              "    <tr>\n",
              "      <th>138</th>\n",
              "      <td>48.3</td>\n",
              "      <td>3.9</td>\n",
              "      <td>18.0</td>\n",
              "      <td>42</td>\n",
              "      <td>2.7</td>\n",
              "      <td>324.00</td>\n",
              "      <td>1.0</td>\n",
              "    </tr>\n",
              "    <tr>\n",
              "      <th>139</th>\n",
              "      <td>129.5</td>\n",
              "      <td>7.0</td>\n",
              "      <td>21.7</td>\n",
              "      <td>38</td>\n",
              "      <td>2.2</td>\n",
              "      <td>470.89</td>\n",
              "      <td>1.0</td>\n",
              "    </tr>\n",
              "    <tr>\n",
              "      <th>140</th>\n",
              "      <td>126.5</td>\n",
              "      <td>7.0</td>\n",
              "      <td>21.9</td>\n",
              "      <td>39</td>\n",
              "      <td>1.8</td>\n",
              "      <td>479.61</td>\n",
              "      <td>1.0</td>\n",
              "    </tr>\n",
              "    <tr>\n",
              "      <th>141</th>\n",
              "      <td>99.9</td>\n",
              "      <td>13.2</td>\n",
              "      <td>23.3</td>\n",
              "      <td>31</td>\n",
              "      <td>4.5</td>\n",
              "      <td>542.89</td>\n",
              "      <td>1.0</td>\n",
              "    </tr>\n",
              "    <tr>\n",
              "      <th>142</th>\n",
              "      <td>108.0</td>\n",
              "      <td>12.5</td>\n",
              "      <td>21.2</td>\n",
              "      <td>51</td>\n",
              "      <td>8.9</td>\n",
              "      <td>449.44</td>\n",
              "      <td>1.0</td>\n",
              "    </tr>\n",
              "  </tbody>\n",
              "</table>\n",
              "</div>"
            ],
            "text/plain": [
              "       DMC   ISI  temp  RH  wind  tempsq  const\n",
              "138   48.3   3.9  18.0  42   2.7  324.00    1.0\n",
              "139  129.5   7.0  21.7  38   2.2  470.89    1.0\n",
              "140  126.5   7.0  21.9  39   1.8  479.61    1.0\n",
              "141   99.9  13.2  23.3  31   4.5  542.89    1.0\n",
              "142  108.0  12.5  21.2  51   8.9  449.44    1.0"
            ]
          },
          "metadata": {
            "tags": []
          },
          "execution_count": 94
        }
      ]
    },
    {
      "cell_type": "code",
      "metadata": {
        "id": "ugQd-uJVoNAM",
        "colab_type": "code",
        "colab": {}
      },
      "source": [
        "y_fire = forfires.lgarea"
      ],
      "execution_count": 18,
      "outputs": []
    },
    {
      "cell_type": "code",
      "metadata": {
        "id": "NiN4sQpQsYcF",
        "colab_type": "code",
        "colab": {
          "base_uri": "https://localhost:8080/",
          "height": 34
        },
        "outputId": "54cae175-265a-4ab7-cf3c-63dd52234119"
      },
      "source": [
        "np.linalg.cond(X_fire) #число обусловленности"
      ],
      "execution_count": null,
      "outputs": [
        {
          "output_type": "execute_result",
          "data": {
            "text/plain": [
              "4350.887985345495"
            ]
          },
          "metadata": {
            "tags": []
          },
          "execution_count": 95
        }
      ]
    },
    {
      "cell_type": "code",
      "metadata": {
        "id": "rCfPNu1Asxlh",
        "colab_type": "code",
        "colab": {
          "base_uri": "https://localhost:8080/",
          "height": 156
        },
        "outputId": "23bc03eb-a331-43a5-99d0-44576f07f5d6"
      },
      "source": [
        "#https://stackoverflow.com/questions/42658379/variance-inflation-factor-in-python\n",
        "pd.Series([variance_inflation_factor(X_fire.values, i) \n",
        "               for i in range(X_fire.shape[1])], \n",
        "              index=X_fire.columns)"
      ],
      "execution_count": null,
      "outputs": [
        {
          "output_type": "execute_result",
          "data": {
            "text/plain": [
              "DMC        1.572634\n",
              "ISI        1.406310\n",
              "temp      21.674342\n",
              "RH         1.578588\n",
              "wind       1.242683\n",
              "tempsq    19.619997\n",
              "const     80.351080\n",
              "dtype: float64"
            ]
          },
          "metadata": {
            "tags": []
          },
          "execution_count": 96
        }
      ]
    },
    {
      "cell_type": "markdown",
      "metadata": {
        "id": "ndBHsFhnuGYb",
        "colab_type": "text"
      },
      "source": [
        "Можно заметить, судя по очень высокому числу обусловленности и достаточно высоким значениям VIF, что имеет место мультиколлинеарность.\n",
        "\n",
        "С ней можно бороться разными способами: 1) пошаговое включение / исключение переменных\n",
        "\n",
        "2) Метод главных компонент\n",
        "\n",
        "3) регуляризация\n",
        "\n",
        "4) функциональные преобразования переменных\n",
        "\n",
        "В данном случае я воспользуюсь одним из самых простых способов - исключением переменных (не как ковбой, но как свободная фермерская корова Марта)"
      ]
    },
    {
      "cell_type": "markdown",
      "metadata": {
        "id": "1qM__zgwuvdi",
        "colab_type": "text"
      },
      "source": [
        "###**Оцените линейную модель и проинтерпретируйте результаты. Как можно объяснить знаки, которые не совпали с вашими исходными предположениями? Получились ли переменные значимы по отдельности и в целом? В данном пункте не следует ожидать высокого $R^2$ из-за особенностей данных. Игнорируйте этот факт. Такие мелочи не должны вас волновать, ведь вы занимаетесь наукой. Протестируйте остатки на нормальность любым из тестов.**"
      ]
    },
    {
      "cell_type": "code",
      "metadata": {
        "id": "oI8teLYiutnk",
        "colab_type": "code",
        "colab": {
          "base_uri": "https://localhost:8080/",
          "height": 572
        },
        "outputId": "5390817d-395d-4b38-b98c-fb3561a89499"
      },
      "source": [
        "lin_model = stm.OLS(y_fire, X_fire)\n",
        "lin_model_result = lin_model.fit()\n",
        "print(lin_model_result.summary())"
      ],
      "execution_count": null,
      "outputs": [
        {
          "output_type": "stream",
          "text": [
            "                            OLS Regression Results                            \n",
            "==============================================================================\n",
            "Dep. Variable:                 lgarea   R-squared:                       0.037\n",
            "Model:                            OLS   Adj. R-squared:                  0.015\n",
            "Method:                 Least Squares   F-statistic:                     1.677\n",
            "Date:                Fri, 19 Jun 2020   Prob (F-statistic):              0.127\n",
            "Time:                        18:12:16   Log-Likelihood:                -491.79\n",
            "No. Observations:                 270   AIC:                             997.6\n",
            "Df Residuals:                     263   BIC:                             1023.\n",
            "Df Model:                           6                                         \n",
            "Covariance Type:            nonrobust                                         \n",
            "==============================================================================\n",
            "                 coef    std err          t      P>|t|      [0.025      0.975]\n",
            "------------------------------------------------------------------------------\n",
            "DMC            0.0032      0.002      1.701      0.090      -0.001       0.007\n",
            "ISI           -0.0521      0.026     -1.974      0.049      -0.104      -0.000\n",
            "temp          -0.0921      0.070     -1.324      0.187      -0.229       0.045\n",
            "RH            -0.0105      0.008     -1.364      0.174      -0.026       0.005\n",
            "wind           0.0522      0.055      0.955      0.341      -0.055       0.160\n",
            "tempsq         0.0022      0.002      1.185      0.237      -0.001       0.006\n",
            "const          3.0958      0.827      3.745      0.000       1.468       4.723\n",
            "==============================================================================\n",
            "Omnibus:                        6.120   Durbin-Watson:                   0.909\n",
            "Prob(Omnibus):                  0.047   Jarque-Bera (JB):                5.872\n",
            "Skew:                           0.350   Prob(JB):                       0.0531\n",
            "Kurtosis:                       3.181   Cond. No.                     4.35e+03\n",
            "==============================================================================\n",
            "\n",
            "Warnings:\n",
            "[1] Standard Errors assume that the covariance matrix of the errors is correctly specified.\n",
            "[2] The condition number is large, 4.35e+03. This might indicate that there are\n",
            "strong multicollinearity or other numerical problems.\n"
          ],
          "name": "stdout"
        }
      ]
    },
    {
      "cell_type": "markdown",
      "metadata": {
        "id": "gR6cSxkKyB-B",
        "colab_type": "text"
      },
      "source": [
        "Оценивание простой линейной модели дало не очень хорошие результаты:\n",
        "\n",
        "Регрессия неадекватна судя по F-тесту,\n",
        "большая часть переменных статистически незначима.\n",
        "\n",
        "Судя по текущим оценкам зависимость от показателец DMC - duff moisture code, скорости ветра - положительные, а от ISI, относительной влажности отрицательный. Частично это вполне разумно: чем выше скорость ветра, тем больше вероятность распространения пожара на большую площадь; чем ниже влажность, тем больше сухого топлива в лесу может загореться. Менее интуитивным кажется зависимость от погодных индексов ISI и DMC, которая скорее всего уже должна отражаться в показателях погоды. таких как температура, влажность, скорость ветра.\n",
        "\n",
        "Зависимость от температуры проинтерпретировать сложно: оба коэффициента незначимы, но судя сугубо по точечным оценкам зависимость немонотонная: сначала с с ростом температуры зависимость отрицательная, после - положительная.\n",
        "\n",
        "Вдобавок к этому, знак зависимости от ISI - отрицательный, что, по моему мнению не очень логично, поскольку этот показатель отражает непосредственно характеристики пожара - initial spread.\n",
        "\n",
        "Единственным значимым параметром оказалась константа."
      ]
    },
    {
      "cell_type": "markdown",
      "metadata": {
        "id": "xeR5NJec15sn",
        "colab_type": "text"
      },
      "source": [
        "Также здесь автоматически были проведены тесты Жарке-Бера на нормальность остатков. В данном случае p-value - 0,0531, что хоть и выше, чем 0,05, но не намного. Нулевая гипотеза о нормальности остатков на 5% уровне значимости не отвергается. \n",
        "\n",
        "Проведем отдельный тест на нормальность."
      ]
    },
    {
      "cell_type": "code",
      "metadata": {
        "id": "zLi20Slsut1L",
        "colab_type": "code",
        "colab": {
          "base_uri": "https://localhost:8080/",
          "height": 34
        },
        "outputId": "93000aa7-c937-4558-8589-67eb2e2a9178"
      },
      "source": [
        "if shapiro(lin_model_result.resid)[1] <= 0.05:\n",
        "  print(\"Гипотеза о нормальности отвергается\")\n",
        "else:\n",
        "  print(\"Гипотеза о нормальности не отвергается\")"
      ],
      "execution_count": null,
      "outputs": [
        {
          "output_type": "stream",
          "text": [
            "Гипотеза о нормальности не отвергается\n"
          ],
          "name": "stdout"
        }
      ]
    },
    {
      "cell_type": "markdown",
      "metadata": {
        "id": "ZjckWUMi3O3z",
        "colab_type": "text"
      },
      "source": [
        "Тест Шапиро-Уилка дал нам такой же результат"
      ]
    },
    {
      "cell_type": "markdown",
      "metadata": {
        "id": "65esChEk-hTI",
        "colab_type": "text"
      },
      "source": [
        "Чтобы избавиться от мультиколлинеарности уберем часть переменных, которые имеют высокие показатели VIF"
      ]
    },
    {
      "cell_type": "code",
      "metadata": {
        "id": "4Qoa0HJhMVoU",
        "colab_type": "code",
        "colab": {
          "base_uri": "https://localhost:8080/",
          "height": 202
        },
        "outputId": "e566bfa4-1493-4d6a-d528-494a16300aaf"
      },
      "source": [
        "X_fire_1.head()"
      ],
      "execution_count": 20,
      "outputs": [
        {
          "output_type": "execute_result",
          "data": {
            "text/html": [
              "<div>\n",
              "<style scoped>\n",
              "    .dataframe tbody tr th:only-of-type {\n",
              "        vertical-align: middle;\n",
              "    }\n",
              "\n",
              "    .dataframe tbody tr th {\n",
              "        vertical-align: top;\n",
              "    }\n",
              "\n",
              "    .dataframe thead th {\n",
              "        text-align: right;\n",
              "    }\n",
              "</style>\n",
              "<table border=\"1\" class=\"dataframe\">\n",
              "  <thead>\n",
              "    <tr style=\"text-align: right;\">\n",
              "      <th></th>\n",
              "      <th>month</th>\n",
              "      <th>day</th>\n",
              "      <th>ISI</th>\n",
              "      <th>temp</th>\n",
              "      <th>RH</th>\n",
              "      <th>wind</th>\n",
              "    </tr>\n",
              "  </thead>\n",
              "  <tbody>\n",
              "    <tr>\n",
              "      <th>138</th>\n",
              "      <td>jul</td>\n",
              "      <td>tue</td>\n",
              "      <td>3.9</td>\n",
              "      <td>18.0</td>\n",
              "      <td>42</td>\n",
              "      <td>2.7</td>\n",
              "    </tr>\n",
              "    <tr>\n",
              "      <th>139</th>\n",
              "      <td>sep</td>\n",
              "      <td>tue</td>\n",
              "      <td>7.0</td>\n",
              "      <td>21.7</td>\n",
              "      <td>38</td>\n",
              "      <td>2.2</td>\n",
              "    </tr>\n",
              "    <tr>\n",
              "      <th>140</th>\n",
              "      <td>sep</td>\n",
              "      <td>mon</td>\n",
              "      <td>7.0</td>\n",
              "      <td>21.9</td>\n",
              "      <td>39</td>\n",
              "      <td>1.8</td>\n",
              "    </tr>\n",
              "    <tr>\n",
              "      <th>141</th>\n",
              "      <td>aug</td>\n",
              "      <td>wed</td>\n",
              "      <td>13.2</td>\n",
              "      <td>23.3</td>\n",
              "      <td>31</td>\n",
              "      <td>4.5</td>\n",
              "    </tr>\n",
              "    <tr>\n",
              "      <th>142</th>\n",
              "      <td>aug</td>\n",
              "      <td>fri</td>\n",
              "      <td>12.5</td>\n",
              "      <td>21.2</td>\n",
              "      <td>51</td>\n",
              "      <td>8.9</td>\n",
              "    </tr>\n",
              "  </tbody>\n",
              "</table>\n",
              "</div>"
            ],
            "text/plain": [
              "    month  day   ISI  temp  RH  wind\n",
              "138   jul  tue   3.9  18.0  42   2.7\n",
              "139   sep  tue   7.0  21.7  38   2.2\n",
              "140   sep  mon   7.0  21.9  39   1.8\n",
              "141   aug  wed  13.2  23.3  31   4.5\n",
              "142   aug  fri  12.5  21.2  51   8.9"
            ]
          },
          "metadata": {
            "tags": []
          },
          "execution_count": 20
        }
      ]
    },
    {
      "cell_type": "code",
      "metadata": {
        "id": "2DuGAxBQ1gSE",
        "colab_type": "code",
        "colab": {
          "base_uri": "https://localhost:8080/",
          "height": 34
        },
        "outputId": "b57e78b3-c692-45c9-c401-20f0b207408c"
      },
      "source": [
        "X_fire_1 = X_fire.drop(columns=['const', 'tempsq', 'DMC'])\n",
        "np.linalg.cond(X_fire_1) #число обусловленности значительно сократилось"
      ],
      "execution_count": 25,
      "outputs": [
        {
          "output_type": "execute_result",
          "data": {
            "text/plain": [
              "25.845284501588914"
            ]
          },
          "metadata": {
            "tags": []
          },
          "execution_count": 25
        }
      ]
    },
    {
      "cell_type": "code",
      "metadata": {
        "id": "Gv8K2HpF_X9N",
        "colab_type": "code",
        "colab": {
          "base_uri": "https://localhost:8080/",
          "height": 104
        },
        "outputId": "0746d110-c876-4401-be88-a63d0655138e"
      },
      "source": [
        "pd.Series([variance_inflation_factor(X_fire_1.values, i) \n",
        "               for i in range(X_fire_1.shape[1])], \n",
        "              index=X_fire_1.columns)"
      ],
      "execution_count": null,
      "outputs": [
        {
          "output_type": "execute_result",
          "data": {
            "text/plain": [
              "ISI     8.169827\n",
              "temp    8.076773\n",
              "RH      5.644684\n",
              "wind    5.197824\n",
              "dtype: float64"
            ]
          },
          "metadata": {
            "tags": []
          },
          "execution_count": 120
        }
      ]
    },
    {
      "cell_type": "code",
      "metadata": {
        "id": "qo3DJVPw_-XK",
        "colab_type": "code",
        "colab": {
          "base_uri": "https://localhost:8080/",
          "height": 202
        },
        "outputId": "a67c3f7a-6d57-4878-8846-37da13ddb0a9"
      },
      "source": [
        "X_fire_1.head()"
      ],
      "execution_count": null,
      "outputs": [
        {
          "output_type": "execute_result",
          "data": {
            "text/html": [
              "<div>\n",
              "<style scoped>\n",
              "    .dataframe tbody tr th:only-of-type {\n",
              "        vertical-align: middle;\n",
              "    }\n",
              "\n",
              "    .dataframe tbody tr th {\n",
              "        vertical-align: top;\n",
              "    }\n",
              "\n",
              "    .dataframe thead th {\n",
              "        text-align: right;\n",
              "    }\n",
              "</style>\n",
              "<table border=\"1\" class=\"dataframe\">\n",
              "  <thead>\n",
              "    <tr style=\"text-align: right;\">\n",
              "      <th></th>\n",
              "      <th>ISI</th>\n",
              "      <th>temp</th>\n",
              "      <th>RH</th>\n",
              "      <th>wind</th>\n",
              "    </tr>\n",
              "  </thead>\n",
              "  <tbody>\n",
              "    <tr>\n",
              "      <th>138</th>\n",
              "      <td>3.9</td>\n",
              "      <td>18.0</td>\n",
              "      <td>42</td>\n",
              "      <td>2.7</td>\n",
              "    </tr>\n",
              "    <tr>\n",
              "      <th>139</th>\n",
              "      <td>7.0</td>\n",
              "      <td>21.7</td>\n",
              "      <td>38</td>\n",
              "      <td>2.2</td>\n",
              "    </tr>\n",
              "    <tr>\n",
              "      <th>140</th>\n",
              "      <td>7.0</td>\n",
              "      <td>21.9</td>\n",
              "      <td>39</td>\n",
              "      <td>1.8</td>\n",
              "    </tr>\n",
              "    <tr>\n",
              "      <th>141</th>\n",
              "      <td>13.2</td>\n",
              "      <td>23.3</td>\n",
              "      <td>31</td>\n",
              "      <td>4.5</td>\n",
              "    </tr>\n",
              "    <tr>\n",
              "      <th>142</th>\n",
              "      <td>12.5</td>\n",
              "      <td>21.2</td>\n",
              "      <td>51</td>\n",
              "      <td>8.9</td>\n",
              "    </tr>\n",
              "  </tbody>\n",
              "</table>\n",
              "</div>"
            ],
            "text/plain": [
              "      ISI  temp  RH  wind\n",
              "138   3.9  18.0  42   2.7\n",
              "139   7.0  21.7  38   2.2\n",
              "140   7.0  21.9  39   1.8\n",
              "141  13.2  23.3  31   4.5\n",
              "142  12.5  21.2  51   8.9"
            ]
          },
          "metadata": {
            "tags": []
          },
          "execution_count": 122
        }
      ]
    },
    {
      "cell_type": "code",
      "metadata": {
        "id": "lijKTkF4_wMo",
        "colab_type": "code",
        "colab": {
          "base_uri": "https://localhost:8080/",
          "height": 485
        },
        "outputId": "bd6f0037-94b2-40b9-875c-c88d4236c360"
      },
      "source": [
        "lin_model1 = stm.OLS(y_fire, X_fire_1)\n",
        "lin_model1_result = lin_model1.fit()\n",
        "print(lin_model1_result.summary())"
      ],
      "execution_count": 26,
      "outputs": [
        {
          "output_type": "stream",
          "text": [
            "                                 OLS Regression Results                                \n",
            "=======================================================================================\n",
            "Dep. Variable:                 lgarea   R-squared (uncentered):                   0.586\n",
            "Model:                            OLS   Adj. R-squared (uncentered):              0.579\n",
            "Method:                 Least Squares   F-statistic:                              93.96\n",
            "Date:                Sat, 20 Jun 2020   Prob (F-statistic):                    1.05e-49\n",
            "Time:                        05:27:49   Log-Likelihood:                         -499.77\n",
            "No. Observations:                 270   AIC:                                      1008.\n",
            "Df Residuals:                     266   BIC:                                      1022.\n",
            "Df Model:                           4                                                  \n",
            "Covariance Type:            nonrobust                                                  \n",
            "==============================================================================\n",
            "                 coef    std err          t      P>|t|      [0.025      0.975]\n",
            "------------------------------------------------------------------------------\n",
            "ISI           -0.0585      0.027     -2.181      0.030      -0.111      -0.006\n",
            "temp           0.0618      0.013      4.671      0.000       0.036       0.088\n",
            "RH             0.0112      0.005      2.303      0.022       0.002       0.021\n",
            "wind           0.1589      0.048      3.337      0.001       0.065       0.253\n",
            "==============================================================================\n",
            "Omnibus:                        2.653   Durbin-Watson:                   0.898\n",
            "Prob(Omnibus):                  0.265   Jarque-Bera (JB):                2.396\n",
            "Skew:                           0.224   Prob(JB):                        0.302\n",
            "Kurtosis:                       3.108   Cond. No.                         25.8\n",
            "==============================================================================\n",
            "\n",
            "Warnings:\n",
            "[1] Standard Errors assume that the covariance matrix of the errors is correctly specified.\n"
          ],
          "name": "stdout"
        }
      ]
    },
    {
      "cell_type": "markdown",
      "metadata": {
        "id": "ZCVxz79bAQb4",
        "colab_type": "text"
      },
      "source": [
        "Удаление части переменных привело к тому, что модель стала адекватной - p-value F-теста теперь около 0, сильно вырос R^2, все переменные значимые, поэтому мы можем их проинтерпретировать с большей уверенностью.\n",
        "\n",
        "Зависимость от температуры и скорости ветра положительная - это не противоречит интуитивной оценке их возможного влияния, о котором говорилось выше.\n",
        "\n",
        "Согласно модели зависимость от влажности слабо положительная, а от индекса ISI - отрицательная. Но такие знаки не очень сильно сходятся с моей логикой: по моему мнению, рост влажности при прочих равных должен был бы отрицательно влиять на площадь пожара, так как уменьшалась бы вероятность возгорания сухих материалов. Понять зависимость между ISI и целевой переменной достаточно сложно,поскольку это индикатор, сам по себе состоящий из нескольких физических параметров, отражающих состояние при пожаре.  \n"
      ]
    },
    {
      "cell_type": "markdown",
      "metadata": {
        "id": "e_Az_Gl0AtqV",
        "colab_type": "text"
      },
      "source": [
        "Автоматически проводимый тест Харке-Бера показал, что гипотеза о нормальности остатков не отвергается\n",
        "\n",
        "Дополнительно проведем тест Шапиро-Уилка"
      ]
    },
    {
      "cell_type": "code",
      "metadata": {
        "id": "_d89q98pDyh2",
        "colab_type": "code",
        "colab": {
          "base_uri": "https://localhost:8080/",
          "height": 34
        },
        "outputId": "820292d4-dfa6-495e-e1ac-bbb9a93122e2"
      },
      "source": [
        "if shapiro(lin_model1_result.resid)[1] <= 0.05:\n",
        "  print(\"Гипотеза о нормальности отвергается\")\n",
        "else:\n",
        "  print(\"Гипотеза о нормальности не отвергается\")"
      ],
      "execution_count": null,
      "outputs": [
        {
          "output_type": "stream",
          "text": [
            "Гипотеза о нормальности не отвергается\n"
          ],
          "name": "stdout"
        }
      ]
    },
    {
      "cell_type": "markdown",
      "metadata": {
        "id": "Dm6k0B8UEB65",
        "colab_type": "text"
      },
      "source": [
        "Результат теста Шапиро-Уилка такой же."
      ]
    },
    {
      "cell_type": "markdown",
      "metadata": {
        "id": "wzbfBA-S3XYR",
        "colab_type": "text"
      },
      "source": [
        "###**Постройте следующие прогнозы: точечный, индивидуальный и для среднего. В качестве значений независимых переменных возьмите медианные значения наблюдений.**"
      ]
    },
    {
      "cell_type": "code",
      "metadata": {
        "id": "wqNIhH373ocW",
        "colab_type": "code",
        "colab": {
          "base_uri": "https://localhost:8080/",
          "height": 34
        },
        "outputId": "16e681d5-d03d-4737-ff91-d57672e9682b"
      },
      "source": [
        "X_new = np.median(X_fire_1, axis=0)\n",
        "X_new"
      ],
      "execution_count": 144,
      "outputs": [
        {
          "output_type": "execute_result",
          "data": {
            "text/plain": [
              "array([ 8.4, 20.1, 41. ,  4. ])"
            ]
          },
          "metadata": {
            "tags": []
          },
          "execution_count": 144
        }
      ]
    },
    {
      "cell_type": "code",
      "metadata": {
        "id": "Es9Qih9K3ono",
        "colab_type": "code",
        "colab": {
          "base_uri": "https://localhost:8080/",
          "height": 34
        },
        "outputId": "0f0de555-e3bb-4366-c9df-3e6808709d74"
      },
      "source": [
        "print(\"Точечный прогноз логарифма площади лесного пожара\", lin_model1_result.predict(X_new)[0])"
      ],
      "execution_count": null,
      "outputs": [
        {
          "output_type": "stream",
          "text": [
            "Точечный прогноз логарифма площади лесного пожара 1.8453135748085492\n"
          ],
          "name": "stdout"
        }
      ]
    },
    {
      "cell_type": "markdown",
      "metadata": {
        "id": "Sh0GC0q8Jn5n",
        "colab_type": "text"
      },
      "source": [
        "Для среднего и индивидуального прогноза нам необходимы оценки дисперсий и ковариаций"
      ]
    },
    {
      "cell_type": "code",
      "metadata": {
        "id": "jpVWV6JW3oz-",
        "colab_type": "code",
        "colab": {
          "base_uri": "https://localhost:8080/",
          "height": 172
        },
        "outputId": "7774170a-ef38-4594-e5fc-c516c37f6447"
      },
      "source": [
        "lin_model1_result.cov_params()"
      ],
      "execution_count": 136,
      "outputs": [
        {
          "output_type": "execute_result",
          "data": {
            "text/html": [
              "<div>\n",
              "<style scoped>\n",
              "    .dataframe tbody tr th:only-of-type {\n",
              "        vertical-align: middle;\n",
              "    }\n",
              "\n",
              "    .dataframe tbody tr th {\n",
              "        vertical-align: top;\n",
              "    }\n",
              "\n",
              "    .dataframe thead th {\n",
              "        text-align: right;\n",
              "    }\n",
              "</style>\n",
              "<table border=\"1\" class=\"dataframe\">\n",
              "  <thead>\n",
              "    <tr style=\"text-align: right;\">\n",
              "      <th></th>\n",
              "      <th>ISI</th>\n",
              "      <th>temp</th>\n",
              "      <th>RH</th>\n",
              "      <th>wind</th>\n",
              "    </tr>\n",
              "  </thead>\n",
              "  <tbody>\n",
              "    <tr>\n",
              "      <th>ISI</th>\n",
              "      <td>0.000719</td>\n",
              "      <td>-0.000252</td>\n",
              "      <td>-0.000010</td>\n",
              "      <td>-0.000329</td>\n",
              "    </tr>\n",
              "    <tr>\n",
              "      <th>temp</th>\n",
              "      <td>-0.000252</td>\n",
              "      <td>0.000175</td>\n",
              "      <td>-0.000018</td>\n",
              "      <td>-0.000018</td>\n",
              "    </tr>\n",
              "    <tr>\n",
              "      <th>RH</th>\n",
              "      <td>-0.000010</td>\n",
              "      <td>-0.000018</td>\n",
              "      <td>0.000024</td>\n",
              "      <td>-0.000128</td>\n",
              "    </tr>\n",
              "    <tr>\n",
              "      <th>wind</th>\n",
              "      <td>-0.000329</td>\n",
              "      <td>-0.000018</td>\n",
              "      <td>-0.000128</td>\n",
              "      <td>0.002267</td>\n",
              "    </tr>\n",
              "  </tbody>\n",
              "</table>\n",
              "</div>"
            ],
            "text/plain": [
              "           ISI      temp        RH      wind\n",
              "ISI   0.000719 -0.000252 -0.000010 -0.000329\n",
              "temp -0.000252  0.000175 -0.000018 -0.000018\n",
              "RH   -0.000010 -0.000018  0.000024 -0.000128\n",
              "wind -0.000329 -0.000018 -0.000128  0.002267"
            ]
          },
          "metadata": {
            "tags": []
          },
          "execution_count": 136
        }
      ]
    },
    {
      "cell_type": "code",
      "metadata": {
        "id": "X_-zmtyJJyfL",
        "colab_type": "code",
        "colab": {
          "base_uri": "https://localhost:8080/",
          "height": 34
        },
        "outputId": "1c2bd54b-dc86-47bd-e5bd-937a47e663bb"
      },
      "source": [
        "lin_model1_result.scale #оценка sigma^2"
      ],
      "execution_count": 138,
      "outputs": [
        {
          "output_type": "execute_result",
          "data": {
            "text/plain": [
              "2.408631915151409"
            ]
          },
          "metadata": {
            "tags": []
          },
          "execution_count": 138
        }
      ]
    },
    {
      "cell_type": "code",
      "metadata": {
        "id": "RUF2Ws8WkiXj",
        "colab_type": "code",
        "colab": {}
      },
      "source": [
        "var_matrix = lin_model1_result.cov_params().values"
      ],
      "execution_count": 139,
      "outputs": []
    },
    {
      "cell_type": "markdown",
      "metadata": {
        "id": "fglqmf0ukwFk",
        "colab_type": "text"
      },
      "source": [
        "## $Var(E(Y_{new}|X_{new})) = Var(X_{new}\\hat{\\beta}) = X_{new} Var(\\hat{\\beta})X_{new}^T  $\n",
        "\n",
        "## $Var(Y_{new}|X_{new}) = Var(X_{new}\\hat{\\beta} + \\epsilon_{new}) =  X_{new} Var(\\hat{\\beta})X_{new}^T + Var(\\epsilon_{new})$"
      ]
    },
    {
      "cell_type": "code",
      "metadata": {
        "id": "P9ibVPfbJyu0",
        "colab_type": "code",
        "colab": {}
      },
      "source": [
        "#Дисперсия прогноза для среднего\n",
        "var_mean = np.dot(np.dot(X_new, var_matrix), X_new.transpose())\n",
        "#Дисперсия для индивидуального прогноза\n",
        "var_ind = var_mean + lin_model1_result.scale"
      ],
      "execution_count": 145,
      "outputs": []
    },
    {
      "cell_type": "code",
      "metadata": {
        "id": "ujm_XQfmmEg6",
        "colab_type": "code",
        "colab": {
          "base_uri": "https://localhost:8080/",
          "height": 52
        },
        "outputId": "ffc500a3-e8a5-4d64-c9c0-2c0843f39a72"
      },
      "source": [
        "#прогноз для среднего\n",
        "left = lin_model1_result.predict(X_new)[0] - 1.96 * np.sqrt(var_mean)\n",
        "right = lin_model1_result.predict(X_new)[0] + 1.96 * np.sqrt(var_mean)\n",
        "print('Предиктивный интервал для среднего: [', left, ';', right, ']')\n",
        "#индивидуальный прогноз\n",
        "left_i = lin_model1_result.predict(X_new)[0] - 1.96 * np.sqrt(var_ind)\n",
        "right_i = lin_model1_result.predict(X_new)[0] + 1.96 * np.sqrt(var_ind)\n",
        "print('Предиктивный индивидуальный прогноз: [', left_i, ';', right_i, ']')"
      ],
      "execution_count": 148,
      "outputs": [
        {
          "output_type": "stream",
          "text": [
            "Предиктивный интервал для среднего: [ 1.6529826722897958 ; 2.037644477327303 ]\n",
            "Предиктивный индивидуальный прогноз: [ -1.2026351684135754 ; 4.893262318030674 ]\n"
          ],
          "name": "stdout"
        }
      ]
    },
    {
      "cell_type": "markdown",
      "metadata": {
        "id": "zjKGAYybJzOg",
        "colab_type": "text"
      },
      "source": [
        "###**Предположите, какие из регрессоров могут порождать гетероскедастичность. Обоснуйте идейно зависимость между этими переменными и дисперсией ошибок.**"
      ]
    },
    {
      "cell_type": "markdown",
      "metadata": {
        "id": "W1bgYFlkJ-om",
        "colab_type": "text"
      },
      "source": [
        "Гетероскедастичость может быть вызвана как включенными в модель, так и исключенными переменными.\n",
        "\n",
        "Сомнительно предполагать, что таким регрессором будет какой-то придуманный индекс, скорее это что-то из трех имеющихся признаков - влажность, температура или скорость ветра. \n",
        "\n",
        "Разная дисперсия ошибок, зависящая от какого-то регрессора, означает, что разброс значений площади пожара определенным образом зависит от этого фактора.\n",
        "\n",
        "Судя по диаграммам рассеяния с ростом температуры растет разброс значений площади пожара, в то же время с понижением влажности разброс также растет. Также можно заметить, что разброс значений целевой переменной сильно разнится по месяцам - это скорее всего из-за того, что больше всего лесные пожары возникают летом / ранней осенью, а погодные условия при этом в разных сучаях совершенно отличные друг от друга. \n",
        "\n",
        "Наиболее разумной кажется зависимость от температуры, поскольку это, в отличие от влажности и скорости ветра, сезональный фактор. Большая часть наблюдений характеризуется достаточно высокими температурами, но хотя часть разброса объясняется влажностью и скоростью ветра, есть другие факторы, которые по-разному реагируют на температуру (возможно, природа лесных материалов с разной степенью устойчивости к высоким температурам). \n",
        "\n",
        "Похожим образом можно объяснить возможную гетероскедастичность, вызванную переменной влажности: чем ниже влажность, тем больше возможность возгорания сухого топлива, которое может сильно отличаться по своим физическим свойствам. "
      ]
    },
    {
      "cell_type": "markdown",
      "metadata": {
        "id": "H_79ZKdyKafi",
        "colab_type": "text"
      },
      "source": [
        "###**Попытайтесь выявить гетероскедастичность по предположенным ранее переменным двумя способами: графически с помощью остатков регрессионной модели и вручную проведите тест Голдфельда-Квандта. Если не найдёте имплементации в любом из языков (маловероятно), реализуйте тест самостоятельно. Совпали ли результаты?**"
      ]
    },
    {
      "cell_type": "code",
      "metadata": {
        "id": "FlROqWNcKxB8",
        "colab_type": "code",
        "colab": {
          "base_uri": "https://localhost:8080/",
          "height": 518
        },
        "outputId": "634e7a47-4238-4d46-d012-bb3ae0439db2"
      },
      "source": [
        "plt.figure(figsize=(15, 8))\n",
        "plt.scatter(forfires.temp, lin_model1_result.resid, c = 'red')\n",
        "plt.xlabel('Температура, С', fontdict={'fontsize':14})\n",
        "plt.ylabel('Остатки регрессии', fontdict={'fontsize':14})\n",
        "plt.title('Диаграмма рассеивания температуры и остатков регрессии', fontdict={'fontsize':16})\n",
        "plt.show()"
      ],
      "execution_count": null,
      "outputs": [
        {
          "output_type": "display_data",
          "data": {
            "image/png": "[encoded data removed]",
            "text/plain": [
              "<Figure size 1080x576 with 1 Axes>"
            ]
          },
          "metadata": {
            "tags": [],
            "needs_background": "light"
          }
        }
      ]
    },
    {
      "cell_type": "markdown",
      "metadata": {
        "id": "VxsUPeqwUQQW",
        "colab_type": "text"
      },
      "source": [
        "Можно заметить, что с ростом температуры разброс остатков несколько увеличивается."
      ]
    },
    {
      "cell_type": "code",
      "metadata": {
        "id": "_psmG5noX3P3",
        "colab_type": "code",
        "colab": {}
      },
      "source": [
        "temp = X_fire_1.temp.values.reshape(X_fire_1.shape[0], 1)"
      ],
      "execution_count": 27,
      "outputs": []
    },
    {
      "cell_type": "code",
      "metadata": {
        "id": "LK0CRjUPWhHX",
        "colab_type": "code",
        "colab": {
          "base_uri": "https://localhost:8080/",
          "height": 69
        },
        "outputId": "8520539f-db36-461a-f6d8-9e9f0f24bcc5"
      },
      "source": [
        "from statsmodels.stats.api import het_goldfeldquandt\n",
        "test1 = het_goldfeldquandt(lin_model1_result.resid, temp, alternative='increasing')\n",
        "test2 = het_goldfeldquandt(lin_model1_result.resid, temp, alternative='two-sided')\n",
        "test3 = het_goldfeldquandt(lin_model1_result.resid, temp, alternative='decreasing')\n",
        "print('P-value гипотезы о том, что дисперсия второго сэмпла больше, чем у первого', test1[1])\n",
        "print('P-value гипотезы о том, что дисперсия второго сэмпла не равна дисперсии первого', test2[1])\n",
        "print('P-value гипотезы о том, что дисперсия второго сэмпла меньше, чем у первого', test3[1])"
      ],
      "execution_count": 28,
      "outputs": [
        {
          "output_type": "stream",
          "text": [
            "P-value гипотезы о том, что дисперсия второго сэмпла больше, чем у первого 0.9953492170126116\n",
            "P-value гипотезы о том, что дисперсия второго сэмпла не равна дисперсии первого 0.009301565974776792\n",
            "P-value гипотезы о том, что дисперсия второго сэмпла меньше, чем у первого 0.004650782987388396\n"
          ],
          "name": "stdout"
        }
      ]
    },
    {
      "cell_type": "markdown",
      "metadata": {
        "id": "o2lW9U5fH9bx",
        "colab_type": "text"
      },
      "source": [
        ""
      ]
    },
    {
      "cell_type": "code",
      "metadata": {
        "id": "1B5qDxAMKxLY",
        "colab_type": "code",
        "colab": {
          "base_uri": "https://localhost:8080/",
          "height": 518
        },
        "outputId": "bdcd4aa0-39df-4611-dcc9-44e60cb26c2d"
      },
      "source": [
        "plt.figure(figsize=(15, 8))\n",
        "plt.scatter(forfires.RH, lin_model1_result.resid, c = 'red')\n",
        "plt.xlabel('Относительная влажность, %', fontdict={'fontsize':14})\n",
        "plt.ylabel('Остатки регрессии', fontdict={'fontsize':14})\n",
        "plt.title('Диаграмма рассеивания относительной влажности и остатков регрессии', fontdict={'fontsize':16})\n",
        "plt.show()"
      ],
      "execution_count": null,
      "outputs": [
        {
          "output_type": "display_data",
          "data": {
            "image/png": "[encoded data removed]",
            "text/plain": [
              "<Figure size 1080x576 with 1 Axes>"
            ]
          },
          "metadata": {
            "tags": [],
            "needs_background": "light"
          }
        }
      ]
    },
    {
      "cell_type": "markdown",
      "metadata": {
        "id": "xhwETfIPU0TM",
        "colab_type": "text"
      },
      "source": [
        "Можно заметить, что с ростом влажности разброс остатков немного сокращается."
      ]
    },
    {
      "cell_type": "code",
      "metadata": {
        "id": "PsoRJPGwYOQ6",
        "colab_type": "code",
        "colab": {}
      },
      "source": [
        "rh =  X_fire_1.RH.values.reshape(X_fire_1.shape[0], 1)"
      ],
      "execution_count": 29,
      "outputs": []
    },
    {
      "cell_type": "code",
      "metadata": {
        "id": "BJyTk9_5KxIl",
        "colab_type": "code",
        "colab": {
          "base_uri": "https://localhost:8080/",
          "height": 69
        },
        "outputId": "36903f65-6bf4-40c4-b926-28e3dfbf88e1"
      },
      "source": [
        "test1 = het_goldfeldquandt(lin_model1_result.resid, rh, alternative='increasing')\n",
        "test2 = het_goldfeldquandt(lin_model1_result.resid, rh, alternative='two-sided')\n",
        "test3 = het_goldfeldquandt(lin_model1_result.resid, rh, alternative='decreasing')\n",
        "print('P-value гипотезы о том, что дисперсия второго сэмпла больше, чем у первого', test1[1])\n",
        "print('P-value гипотезы о том, что дисперсия второго сэмпла не равна дисперсии первого', test2[1])\n",
        "print('P-value гипотезы о том, что дисперсия второго сэмпла меньше, чем у первого', test3[1])"
      ],
      "execution_count": 30,
      "outputs": [
        {
          "output_type": "stream",
          "text": [
            "P-value гипотезы о том, что дисперсия второго сэмпла больше, чем у первого 0.9953417023453763\n",
            "P-value гипотезы о том, что дисперсия второго сэмпла не равна дисперсии первого 0.00931659530924733\n",
            "P-value гипотезы о том, что дисперсия второго сэмпла меньше, чем у первого 0.004658297654623665\n"
          ],
          "name": "stdout"
        }
      ]
    },
    {
      "cell_type": "markdown",
      "metadata": {
        "id": "mnPG8p8TZ1T3",
        "colab_type": "text"
      },
      "source": [
        "Гипотезы о гомоскедастичности отвергается в пользу альтернативной гипотезы о том, что дисперсия второго сэмпла выше.\n",
        "\n",
        "Можно говорить о том, что результат совпал с визуальным анализом (разброс действительно отличается) для переменной температуры - с ростом ее значений разброс остатков выше (а по результатам теста дисперсия тоже больше). \n",
        "\n",
        "Результат теста для переменной относительной влажности такой же, хотя судя по графику можно было бы предположить об отрицательной зависимости между дисперсией и показателем RH"
      ]
    },
    {
      "cell_type": "markdown",
      "metadata": {
        "id": "JvJ6GVB1KbSK",
        "colab_type": "text"
      },
      "source": [
        "###**Вне зависимости от того, обнаружена ли гетероскедастичность в предыдущих пунктах, вручную (в матрицах) оцените модель взвешенного МНК. Разумеется, предположите, что ковариационная матрица ошибок диагональна. Засчитывается как использование пакетных реализаций, так и решение вручную в матрицах, но в обоих случаях надо предоставить коэффициенты, стандартные ошибки и p-value. Изменились ли результаты значимости по сравнению с обычной линейной моделью?**"
      ]
    },
    {
      "cell_type": "markdown",
      "metadata": {
        "id": "rcwudUe9QJwK",
        "colab_type": "text"
      },
      "source": [
        "Я реализую взвешенный МНК при предположении о следущей форме гетероскедастичности:\n",
        "\n",
        "$\\sigma_{\\epsilon i}^2$ ~ $temp_i$\n",
        "\n",
        "Вручную создам матрицу $\\Omega^{-1/2}$, диагональные элементы которой будут пропорциональны $\\frac{1}{\\sqrt{temp_i}}$\n",
        "\n",
        "После этого создам матрицы $Y^* = \\Omega^{-1/2} \\cdot Y, X^* = \\Omega^{-1/2} \\cdot X$"
      ]
    },
    {
      "cell_type": "code",
      "metadata": {
        "id": "F61mItu_VYCA",
        "colab_type": "code",
        "colab": {
          "base_uri": "https://localhost:8080/",
          "height": 202
        },
        "outputId": "e830de04-f409-4b72-8ec2-3546337bb363"
      },
      "source": [
        "X_fire_1.head()"
      ],
      "execution_count": 32,
      "outputs": [
        {
          "output_type": "execute_result",
          "data": {
            "text/html": [
              "<div>\n",
              "<style scoped>\n",
              "    .dataframe tbody tr th:only-of-type {\n",
              "        vertical-align: middle;\n",
              "    }\n",
              "\n",
              "    .dataframe tbody tr th {\n",
              "        vertical-align: top;\n",
              "    }\n",
              "\n",
              "    .dataframe thead th {\n",
              "        text-align: right;\n",
              "    }\n",
              "</style>\n",
              "<table border=\"1\" class=\"dataframe\">\n",
              "  <thead>\n",
              "    <tr style=\"text-align: right;\">\n",
              "      <th></th>\n",
              "      <th>ISI</th>\n",
              "      <th>temp</th>\n",
              "      <th>RH</th>\n",
              "      <th>wind</th>\n",
              "    </tr>\n",
              "  </thead>\n",
              "  <tbody>\n",
              "    <tr>\n",
              "      <th>138</th>\n",
              "      <td>3.9</td>\n",
              "      <td>18.0</td>\n",
              "      <td>42</td>\n",
              "      <td>2.7</td>\n",
              "    </tr>\n",
              "    <tr>\n",
              "      <th>139</th>\n",
              "      <td>7.0</td>\n",
              "      <td>21.7</td>\n",
              "      <td>38</td>\n",
              "      <td>2.2</td>\n",
              "    </tr>\n",
              "    <tr>\n",
              "      <th>140</th>\n",
              "      <td>7.0</td>\n",
              "      <td>21.9</td>\n",
              "      <td>39</td>\n",
              "      <td>1.8</td>\n",
              "    </tr>\n",
              "    <tr>\n",
              "      <th>141</th>\n",
              "      <td>13.2</td>\n",
              "      <td>23.3</td>\n",
              "      <td>31</td>\n",
              "      <td>4.5</td>\n",
              "    </tr>\n",
              "    <tr>\n",
              "      <th>142</th>\n",
              "      <td>12.5</td>\n",
              "      <td>21.2</td>\n",
              "      <td>51</td>\n",
              "      <td>8.9</td>\n",
              "    </tr>\n",
              "  </tbody>\n",
              "</table>\n",
              "</div>"
            ],
            "text/plain": [
              "      ISI  temp  RH  wind\n",
              "138   3.9  18.0  42   2.7\n",
              "139   7.0  21.7  38   2.2\n",
              "140   7.0  21.9  39   1.8\n",
              "141  13.2  23.3  31   4.5\n",
              "142  12.5  21.2  51   8.9"
            ]
          },
          "metadata": {
            "tags": []
          },
          "execution_count": 32
        }
      ]
    },
    {
      "cell_type": "code",
      "metadata": {
        "id": "_kJ2ZaP8Kx68",
        "colab_type": "code",
        "colab": {}
      },
      "source": [
        "X_init = X_fire_1.values\n",
        "Omega = np.zeros((X_init.shape[0], X_init.shape[0]))"
      ],
      "execution_count": 31,
      "outputs": []
    },
    {
      "cell_type": "code",
      "metadata": {
        "id": "6zm4C0pUKyEp",
        "colab_type": "code",
        "colab": {}
      },
      "source": [
        "for i in range(X_init.shape[0]):\n",
        "  Omega[i,i] = 1 / np.sqrt(X_init[i,2])"
      ],
      "execution_count": 33,
      "outputs": []
    },
    {
      "cell_type": "code",
      "metadata": {
        "id": "n428RoqTKyOJ",
        "colab_type": "code",
        "colab": {}
      },
      "source": [
        "X_new = np.dot(Omega, X_init)\n",
        "y_new = np.dot(Omega, y_fire)"
      ],
      "execution_count": 35,
      "outputs": []
    },
    {
      "cell_type": "code",
      "metadata": {
        "id": "Yq8hV3KTWbDU",
        "colab_type": "code",
        "colab": {
          "base_uri": "https://localhost:8080/",
          "height": 485
        },
        "outputId": "65af30bd-6c08-419d-fb93-04c7e2a4643b"
      },
      "source": [
        "model_lin = stm.OLS(y_new, X_new)\n",
        "model_lin_result = model_lin.fit()\n",
        "print(model_lin_result.summary())"
      ],
      "execution_count": 36,
      "outputs": [
        {
          "output_type": "stream",
          "text": [
            "                                 OLS Regression Results                                \n",
            "=======================================================================================\n",
            "Dep. Variable:                      y   R-squared (uncentered):                   0.591\n",
            "Model:                            OLS   Adj. R-squared (uncentered):              0.584\n",
            "Method:                 Least Squares   F-statistic:                              95.93\n",
            "Date:                Sat, 20 Jun 2020   Prob (F-statistic):                    2.08e-50\n",
            "Time:                        06:12:15   Log-Likelihood:                         -10.323\n",
            "No. Observations:                 270   AIC:                                      28.65\n",
            "Df Residuals:                     266   BIC:                                      43.04\n",
            "Df Model:                           4                                                  \n",
            "Covariance Type:            nonrobust                                                  \n",
            "==============================================================================\n",
            "                 coef    std err          t      P>|t|      [0.025      0.975]\n",
            "------------------------------------------------------------------------------\n",
            "x1            -0.0613      0.028     -2.206      0.028      -0.116      -0.007\n",
            "x2             0.0665      0.014      4.845      0.000       0.039       0.094\n",
            "x3             0.0072      0.005      1.315      0.190      -0.004       0.018\n",
            "x4             0.1962      0.046      4.297      0.000       0.106       0.286\n",
            "==============================================================================\n",
            "Omnibus:                        9.665   Durbin-Watson:                   0.913\n",
            "Prob(Omnibus):                  0.008   Jarque-Bera (JB):               10.403\n",
            "Skew:                           0.369   Prob(JB):                      0.00551\n",
            "Kurtosis:                       3.615   Cond. No.                         22.5\n",
            "==============================================================================\n",
            "\n",
            "Warnings:\n",
            "[1] Standard Errors assume that the covariance matrix of the errors is correctly specified.\n"
          ],
          "name": "stdout"
        }
      ]
    },
    {
      "cell_type": "markdown",
      "metadata": {
        "id": "yU4ApEMjXA10",
        "colab_type": "text"
      },
      "source": [
        "Проведем также пакетную реализацию и сравним результаты"
      ]
    },
    {
      "cell_type": "code",
      "metadata": {
        "id": "Ucg9Y3YmYbj9",
        "colab_type": "code",
        "colab": {
          "base_uri": "https://localhost:8080/",
          "height": 485
        },
        "outputId": "5a37b37f-16f0-4f89-fa4f-f21aa0ab9abf"
      },
      "source": [
        "wls_model = stm.WLS(y_fire, X_fire_1, weights=1/X_init[:,2])\n",
        "wls_model_result = wls_model.fit()\n",
        "print(wls_model_result.summary())"
      ],
      "execution_count": 38,
      "outputs": [
        {
          "output_type": "stream",
          "text": [
            "                                 WLS Regression Results                                \n",
            "=======================================================================================\n",
            "Dep. Variable:                 lgarea   R-squared (uncentered):                   0.591\n",
            "Model:                            WLS   Adj. R-squared (uncentered):              0.584\n",
            "Method:                 Least Squares   F-statistic:                              95.93\n",
            "Date:                Sat, 20 Jun 2020   Prob (F-statistic):                    2.08e-50\n",
            "Time:                        06:19:44   Log-Likelihood:                         -512.61\n",
            "No. Observations:                 270   AIC:                                      1033.\n",
            "Df Residuals:                     266   BIC:                                      1048.\n",
            "Df Model:                           4                                                  \n",
            "Covariance Type:            nonrobust                                                  \n",
            "==============================================================================\n",
            "                 coef    std err          t      P>|t|      [0.025      0.975]\n",
            "------------------------------------------------------------------------------\n",
            "ISI           -0.0613      0.028     -2.206      0.028      -0.116      -0.007\n",
            "temp           0.0665      0.014      4.845      0.000       0.039       0.094\n",
            "RH             0.0072      0.005      1.315      0.190      -0.004       0.018\n",
            "wind           0.1962      0.046      4.297      0.000       0.106       0.286\n",
            "==============================================================================\n",
            "Omnibus:                        9.665   Durbin-Watson:                   0.913\n",
            "Prob(Omnibus):                  0.008   Jarque-Bera (JB):               10.403\n",
            "Skew:                           0.369   Prob(JB):                      0.00551\n",
            "Kurtosis:                       3.615   Cond. No.                         22.5\n",
            "==============================================================================\n",
            "\n",
            "Warnings:\n",
            "[1] Standard Errors assume that the covariance matrix of the errors is correctly specified.\n"
          ],
          "name": "stdout"
        }
      ]
    },
    {
      "cell_type": "markdown",
      "metadata": {
        "id": "uWmrJkNhYp8P",
        "colab_type": "text"
      },
      "source": [
        "Результаты ручной и пакетной реализаций совпали:\n",
        "\n",
        "Переменная относительной влажности стала статистически незначимой, остальные - значимы.\n",
        "\n",
        "Однако в этой модели гипотеза о нормальности остатков отвергается, поэтому не очень корректно смотреть на доверительные интервалы, основанные на распределении Стьюдента."
      ]
    },
    {
      "cell_type": "markdown",
      "metadata": {
        "id": "F2nR9DXTKmxF",
        "colab_type": "text"
      },
      "source": [
        "###**Вычислите робастные ошибки в форме Уайта (HC0), лучше вместо пакетных реализаций построить вручную. Поясните метод расчёта (можно на словах, главное - идея). Вычислите p-value для всех переменных. Изменились ли результаты значимости по сравнению с обычной линейной моделью?**\n",
        "\n",
        "Бонус 1 балл Повторите для HC3"
      ]
    },
    {
      "cell_type": "markdown",
      "metadata": {
        "id": "h_Z3sKGwhsrX",
        "colab_type": "text"
      },
      "source": [
        "Идея оценок стандартных ошибок Уайта очень простая: предполагаем, что можно оценить дисперсии ошибок по квадратам остатков. Оценка ковариационной матрицы ошибок здесь диагональная, а диагональные элементы - квадраты остатков соответствующих наблюдений.\n",
        "\n",
        "Это такая наивная оценка  неисправленной выборочной дисперсии по одному наблюдению \n",
        "\n",
        "$\\hat{\\Omega}_{ii} = e_i^2 $\n",
        "\n",
        "$\\hat{Var(\\hat{\\beta})} = (X^TX)^{-1}X^T\\hat{\\Omega}X(X^TX)^{-1}$"
      ]
    },
    {
      "cell_type": "code",
      "metadata": {
        "id": "S_MFUPtNKy8Q",
        "colab_type": "code",
        "colab": {}
      },
      "source": [
        "resid_lin = lin_model1_result.resid.values"
      ],
      "execution_count": 43,
      "outputs": []
    },
    {
      "cell_type": "code",
      "metadata": {
        "id": "Tm0DHXLwrkcT",
        "colab_type": "code",
        "colab": {
          "base_uri": "https://localhost:8080/",
          "height": 34
        },
        "outputId": "3e24c0d4-77cf-48e6-c34c-157a22a5290e"
      },
      "source": [
        "resid_lin[1]"
      ],
      "execution_count": 45,
      "outputs": [
        {
          "output_type": "execute_result",
          "data": {
            "text/plain": [
              "-2.5506443651385267"
            ]
          },
          "metadata": {
            "tags": []
          },
          "execution_count": 45
        }
      ]
    },
    {
      "cell_type": "code",
      "metadata": {
        "id": "wh_AaU6yKzFF",
        "colab_type": "code",
        "colab": {}
      },
      "source": [
        "omega_new = np.zeros((X_init.shape[0], X_init.shape[0]))"
      ],
      "execution_count": 46,
      "outputs": []
    },
    {
      "cell_type": "code",
      "metadata": {
        "id": "d5jgeAhsKzOa",
        "colab_type": "code",
        "colab": {}
      },
      "source": [
        "for i in range(X_init.shape[0]):\n",
        "  omega_new[i, i] = resid_lin[i]**2"
      ],
      "execution_count": 48,
      "outputs": []
    },
    {
      "cell_type": "code",
      "metadata": {
        "id": "01AmuaLesYAM",
        "colab_type": "code",
        "colab": {}
      },
      "source": [
        "xi = X_init.transpose()"
      ],
      "execution_count": 52,
      "outputs": []
    },
    {
      "cell_type": "code",
      "metadata": {
        "id": "0xq31WqkslIl",
        "colab_type": "code",
        "colab": {}
      },
      "source": [
        "xtx = np.dot(xi, X_init)"
      ],
      "execution_count": 54,
      "outputs": []
    },
    {
      "cell_type": "code",
      "metadata": {
        "id": "a1-aPg1EsqJ5",
        "colab_type": "code",
        "colab": {
          "base_uri": "https://localhost:8080/",
          "height": 86
        },
        "outputId": "78c57211-727d-4de6-d871-16f01f1df1da"
      },
      "source": [
        "xtx"
      ],
      "execution_count": 55,
      "outputs": [
        {
          "output_type": "execute_result",
          "data": {
            "text/plain": [
              "array([[ 27365.8 ,  51061.87, 105859.  ,  10343.85],\n",
              "       [ 51061.87, 110960.04, 215553.5 ,  20440.77],\n",
              "       [105859.  , 215553.5 , 577576.  ,  49624.6 ],\n",
              "       [ 10343.85,  20440.77,  49624.6 ,   5522.83]])"
            ]
          },
          "metadata": {
            "tags": []
          },
          "execution_count": 55
        }
      ]
    },
    {
      "cell_type": "code",
      "metadata": {
        "id": "8y0jmWp4sBx4",
        "colab_type": "code",
        "colab": {}
      },
      "source": [
        "inv_xtx = np.linalg.inv(xtx)"
      ],
      "execution_count": 56,
      "outputs": []
    },
    {
      "cell_type": "code",
      "metadata": {
        "id": "sbwL5xQxs3ft",
        "colab_type": "code",
        "colab": {}
      },
      "source": [
        "matr1 = np.dot(inv_xtx, xi)\n",
        "matr2 = np.dot(matr1, omega_new)\n",
        "variance_betas = np.dot(matr2, matr1.transpose())"
      ],
      "execution_count": 57,
      "outputs": []
    },
    {
      "cell_type": "code",
      "metadata": {
        "id": "NpxeAU7GtXpX",
        "colab_type": "code",
        "colab": {
          "base_uri": "https://localhost:8080/",
          "height": 156
        },
        "outputId": "41d7fe77-5234-4180-91b0-4cae69da8365"
      },
      "source": [
        "variance_betas # Оценка HC0"
      ],
      "execution_count": 58,
      "outputs": [
        {
          "output_type": "execute_result",
          "data": {
            "text/plain": [
              "array([[ 7.14042597e-04, -2.78894290e-04, -3.38938616e-06,\n",
              "        -2.50725322e-04],\n",
              "       [-2.78894290e-04,  1.83378232e-04, -1.81781954e-05,\n",
              "         4.46923621e-05],\n",
              "       [-3.38938616e-06, -1.81781954e-05,  2.03430714e-05,\n",
              "        -1.26222069e-04],\n",
              "       [-2.50725322e-04,  4.46923621e-05, -1.26222069e-04,\n",
              "         1.83147099e-03]])"
            ]
          },
          "metadata": {
            "tags": []
          },
          "execution_count": 58
        }
      ]
    },
    {
      "cell_type": "markdown",
      "metadata": {
        "id": "So2BlehStiFP",
        "colab_type": "text"
      },
      "source": [
        "Найдем p-value для линейной модели (OLS)"
      ]
    },
    {
      "cell_type": "code",
      "metadata": {
        "id": "wM5DcotR_i4j",
        "colab_type": "code",
        "colab": {}
      },
      "source": [
        "from scipy.stats import t"
      ],
      "execution_count": 63,
      "outputs": []
    },
    {
      "cell_type": "code",
      "metadata": {
        "id": "JnAMnO0D_KiZ",
        "colab_type": "code",
        "colab": {
          "base_uri": "https://localhost:8080/",
          "height": 34
        },
        "outputId": "d788f7c4-7495-428b-b6bf-3ff9b32ade38"
      },
      "source": [
        "df = lin_model1_result.df_resid\n",
        "df"
      ],
      "execution_count": 62,
      "outputs": [
        {
          "output_type": "execute_result",
          "data": {
            "text/plain": [
              "266.0"
            ]
          },
          "metadata": {
            "tags": []
          },
          "execution_count": 62
        }
      ]
    },
    {
      "cell_type": "code",
      "metadata": {
        "id": "13Hu0Nja_wn3",
        "colab_type": "code",
        "colab": {
          "base_uri": "https://localhost:8080/",
          "height": 34
        },
        "outputId": "3b531e7e-8a0c-4a75-8826-23d03896d6bc"
      },
      "source": [
        "coef_ISI = lin_model1_result.params['ISI']\n",
        "std_err_i = variance_betas[0,0]\n",
        "tstat_i = coef_ISI/std_err_i\n",
        "print(t.sf(np.abs(tstat_i), df)*2 )"
      ],
      "execution_count": 64,
      "outputs": [
        {
          "output_type": "stream",
          "text": [
            "1.032909326985127e-190\n"
          ],
          "name": "stdout"
        }
      ]
    },
    {
      "cell_type": "code",
      "metadata": {
        "id": "oZq2Ee8LBJmB",
        "colab_type": "code",
        "colab": {
          "base_uri": "https://localhost:8080/",
          "height": 121
        },
        "outputId": "cfa8f8c0-8e4e-438c-e2b3-5eaa97e09348"
      },
      "source": [
        "np.sqrt(variance_betas)"
      ],
      "execution_count": 69,
      "outputs": [
        {
          "output_type": "stream",
          "text": [
            "/usr/local/lib/python3.6/dist-packages/ipykernel_launcher.py:1: RuntimeWarning: invalid value encountered in sqrt\n",
            "  \"\"\"Entry point for launching an IPython kernel.\n"
          ],
          "name": "stderr"
        },
        {
          "output_type": "execute_result",
          "data": {
            "text/plain": [
              "array([[0.02672158,        nan,        nan,        nan],\n",
              "       [       nan, 0.01354172,        nan, 0.00668523],\n",
              "       [       nan,        nan, 0.00451033,        nan],\n",
              "       [       nan, 0.00668523,        nan, 0.04279569]])"
            ]
          },
          "metadata": {
            "tags": []
          },
          "execution_count": 69
        }
      ]
    },
    {
      "cell_type": "code",
      "metadata": {
        "id": "PeUqLReXAuVq",
        "colab_type": "code",
        "colab": {
          "base_uri": "https://localhost:8080/",
          "height": 104
        },
        "outputId": "f3a04851-619d-4e99-92fe-5ef5a1d92c13"
      },
      "source": [
        "lin_model1_result.HC0_se"
      ],
      "execution_count": 66,
      "outputs": [
        {
          "output_type": "execute_result",
          "data": {
            "text/plain": [
              "ISI     0.026722\n",
              "temp    0.013542\n",
              "RH      0.004510\n",
              "wind    0.042796\n",
              "dtype: float64"
            ]
          },
          "metadata": {
            "tags": []
          },
          "execution_count": 66
        }
      ]
    },
    {
      "cell_type": "markdown",
      "metadata": {
        "id": "iXtmmUFTBRnK",
        "colab_type": "text"
      },
      "source": [
        "Результаты ручной оценки совпали с оценками встроенными"
      ]
    },
    {
      "cell_type": "code",
      "metadata": {
        "id": "3do9cCCjtZ-g",
        "colab_type": "code",
        "colab": {
          "base_uri": "https://localhost:8080/",
          "height": 86
        },
        "outputId": "0da679f4-a95d-4a74-86c2-77c8b2fd088a"
      },
      "source": [
        "#ISI\n",
        "coef_ISI = lin_model1_result.params['ISI']\n",
        "std_err_i = np.sqrt(variance_betas[0,0])\n",
        "tstat_i = coef_ISI/std_err_i\n",
        "print('P-value гипотезы о незначимости коэффициента перед ISI', t.sf(np.abs(tstat_i), df)*2 )\n",
        "#temp\n",
        "coef_temp = lin_model1_result.params['temp']\n",
        "std_err_t = np.sqrt(variance_betas[1,1])\n",
        "tstat_t = coef_temp/std_err_t\n",
        "print('P-value гипотезы о незначимости коэффициента перед параметром температуры', t.sf(np.abs(tstat_t), df)*2 )\n",
        "#RH\n",
        "coef_rh = lin_model1_result.params['RH']\n",
        "std_err_r = np.sqrt(variance_betas[2,2])\n",
        "tstat_r = coef_rh/std_err_r\n",
        "print('P-value гипотезы о незначимости коэффициента перед параметром относительной влажности', t.sf(np.abs(tstat_r), df)*2 )\n",
        "#wind\n",
        "coef_wind = lin_model1_result.params['wind']\n",
        "std_err_w = np.sqrt(variance_betas[3,3])\n",
        "tstat_w = coef_wind/std_err_w\n",
        "print('P-value гипотезы о незначимости коэффициента перед переменной скорости ветра', t.sf(np.abs(tstat_w), df)*2 )"
      ],
      "execution_count": 67,
      "outputs": [
        {
          "output_type": "stream",
          "text": [
            "P-value гипотезы о незначимости коэффициента перед ISI 0.029484640817768016\n",
            "P-value гипотезы о незначимости коэффициента перед параметром температуры 7.577502198110415e-06\n",
            "P-value гипотезы о незначимости коэффициента перед параметром относительной влажности 0.01386074134290159\n",
            "P-value гипотезы о незначимости коэффициента перед переменной скорости ветра 0.0002503651776953605\n"
          ],
          "name": "stdout"
        }
      ]
    },
    {
      "cell_type": "markdown",
      "metadata": {
        "id": "PBxNwZcdAR-q",
        "colab_type": "text"
      },
      "source": [
        "Все коэффициенты оказались статистически значимыми, как и в обычной модели"
      ]
    },
    {
      "cell_type": "code",
      "metadata": {
        "id": "AK-hwa65-t9Z",
        "colab_type": "code",
        "colab": {}
      },
      "source": [
        ""
      ],
      "execution_count": null,
      "outputs": []
    },
    {
      "cell_type": "markdown",
      "metadata": {
        "id": "oErCw2G6Km9t",
        "colab_type": "text"
      },
      "source": [
        "###**Преобразуйте ваши независимые переменные с помощью PCA. Какую долю дисперсии объясняют две первые главные компоненты? Постройте линейную регрессию зависимой переменной на две первые главные компоненты и проинтерпретируйте результат. Повысилась ли объясняющая способность модели относительно обычной линейной? Значимы ли переменные?**"
      ]
    },
    {
      "cell_type": "code",
      "metadata": {
        "id": "wGjrmEhZK0Do",
        "colab_type": "code",
        "colab": {}
      },
      "source": [
        "from statsmodels.multivariate.pca import PCA"
      ],
      "execution_count": 70,
      "outputs": []
    },
    {
      "cell_type": "code",
      "metadata": {
        "id": "hZuGNikLK0NH",
        "colab_type": "code",
        "colab": {}
      },
      "source": [
        "pca1 = PCA(X_init)"
      ],
      "execution_count": 71,
      "outputs": []
    },
    {
      "cell_type": "code",
      "metadata": {
        "id": "Ttgyq-bkK0We",
        "colab_type": "code",
        "colab": {
          "base_uri": "https://localhost:8080/",
          "height": 86
        },
        "outputId": "827cf02b-7205-44e1-dcce-6eaf6fd1015c"
      },
      "source": [
        "pca1.coeff"
      ],
      "execution_count": 72,
      "outputs": [
        {
          "output_type": "execute_result",
          "data": {
            "text/plain": [
              "array([[  9.72678888,  14.86831072, -11.64242896,  -6.75193733],\n",
              "       [-10.77462685,  -0.17497361,  -1.64402448, -13.07234355],\n",
              "       [  6.41618076,   1.33272707,  10.93751863,  -6.68179303],\n",
              "       [ -4.25788902,   6.86487867,   3.48162571,   2.97973464]])"
            ]
          },
          "metadata": {
            "tags": []
          },
          "execution_count": 72
        }
      ]
    },
    {
      "cell_type": "code",
      "metadata": {
        "id": "SeUAzM0hCVsi",
        "colab_type": "code",
        "colab": {
          "base_uri": "https://localhost:8080/",
          "height": 34
        },
        "outputId": "49dbef5b-8605-4d08-bb48-2f0209b70c23"
      },
      "source": [
        "pca1.projection.shape"
      ],
      "execution_count": 85,
      "outputs": [
        {
          "output_type": "execute_result",
          "data": {
            "text/plain": [
              "(270, 4)"
            ]
          },
          "metadata": {
            "tags": []
          },
          "execution_count": 85
        }
      ]
    },
    {
      "cell_type": "markdown",
      "metadata": {
        "id": "K2sBjGaDDuZX",
        "colab_type": "text"
      },
      "source": [
        "Для нахождения доли дисперсии найдем сосбтвенные значения матрицы $X^TX$"
      ]
    },
    {
      "cell_type": "code",
      "metadata": {
        "id": "5PDzyT9KDUE_",
        "colab_type": "code",
        "colab": {
          "base_uri": "https://localhost:8080/",
          "height": 34
        },
        "outputId": "c33f828a-a596-4196-b8b2-0a6230278a2b"
      },
      "source": [
        "pca1.eigenvals"
      ],
      "execution_count": 76,
      "outputs": [
        {
          "output_type": "execute_result",
          "data": {
            "text/plain": [
              "array([496.81189535, 289.71218169, 207.21920884,  86.25671412])"
            ]
          },
          "metadata": {
            "tags": []
          },
          "execution_count": 76
        }
      ]
    },
    {
      "cell_type": "code",
      "metadata": {
        "id": "f0_nBZZRD3ZH",
        "colab_type": "code",
        "colab": {
          "base_uri": "https://localhost:8080/",
          "height": 34
        },
        "outputId": "18c96a67-5dea-4dd3-df7e-b0f1364d38a7"
      },
      "source": [
        "var_frac = (pca1.eigenvals[0] + pca1.eigenvals[1]) / np.sum(pca1.eigenvals)\n",
        "print('Доля дисперсии, объясняемая первыми двумя главными компонентами:', var_frac)"
      ],
      "execution_count": 79,
      "outputs": [
        {
          "output_type": "stream",
          "text": [
            "Доля дисперсии, объясняемая первыми двумя главными компонентами: 0.7282630343019696\n"
          ],
          "name": "stdout"
        }
      ]
    },
    {
      "cell_type": "code",
      "metadata": {
        "id": "GZkhIyiiESZ_",
        "colab_type": "code",
        "colab": {}
      },
      "source": [
        "X_pca = pca1.projection[:, :2]"
      ],
      "execution_count": 86,
      "outputs": []
    },
    {
      "cell_type": "code",
      "metadata": {
        "id": "wy9tL7HvEZkn",
        "colab_type": "code",
        "colab": {
          "base_uri": "https://localhost:8080/",
          "height": 450
        },
        "outputId": "38bc7e00-76c9-4eb1-b5a9-53579a6c7d99"
      },
      "source": [
        "model_pca = stm.OLS(y_fire, X_pca)\n",
        "model_pca_result = model_pca.fit()\n",
        "print(model_pca_result.summary())"
      ],
      "execution_count": 87,
      "outputs": [
        {
          "output_type": "stream",
          "text": [
            "                                 OLS Regression Results                                \n",
            "=======================================================================================\n",
            "Dep. Variable:                 lgarea   R-squared (uncentered):                   0.530\n",
            "Model:                            OLS   Adj. R-squared (uncentered):              0.526\n",
            "Method:                 Least Squares   F-statistic:                              150.9\n",
            "Date:                Sat, 20 Jun 2020   Prob (F-statistic):                    1.28e-44\n",
            "Time:                        09:35:39   Log-Likelihood:                         -516.86\n",
            "No. Observations:                 270   AIC:                                      1038.\n",
            "Df Residuals:                     268   BIC:                                      1045.\n",
            "Df Model:                           2                                                  \n",
            "Covariance Type:            nonrobust                                                  \n",
            "==============================================================================\n",
            "                 coef    std err          t      P>|t|      [0.025      0.975]\n",
            "------------------------------------------------------------------------------\n",
            "x1            -0.0007      0.026     -0.028      0.978      -0.053       0.051\n",
            "x2             0.0862      0.013      6.556      0.000       0.060       0.112\n",
            "==============================================================================\n",
            "Omnibus:                        1.170   Durbin-Watson:                   0.830\n",
            "Prob(Omnibus):                  0.557   Jarque-Bera (JB):                1.178\n",
            "Skew:                           0.065   Prob(JB):                        0.555\n",
            "Kurtosis:                       2.704   Cond. No.                         6.52\n",
            "==============================================================================\n",
            "\n",
            "Warnings:\n",
            "[1] Standard Errors assume that the covariance matrix of the errors is correctly specified.\n"
          ],
          "name": "stdout"
        }
      ]
    },
    {
      "cell_type": "markdown",
      "metadata": {
        "id": "ZY7AUIeAEy4p",
        "colab_type": "text"
      },
      "source": [
        "Применение метода главных компонент привело к тому, что R^2 сократился (это я считаю неудивительным, поскольку выбранные нами компоненты объясняют лишь около 70% дисперсии исходных факторов). \n",
        "\n",
        "Коэффициент перед первой главной компонентой статистически незначим, а перед второй, наоброт значим.\n",
        "\n",
        "Лоическую или интуитивную интерпретацию самих коэффициентов подобрать сложно, поскольку обе компоненты являются линейными комбинациями исходных, изменение которых будет влиять на обе компоненты сразу, возможно поэтому коэффициент перед одной из компонент так близок к нулю (влияние достаточно объяснить через оставшийся фактор)"
      ]
    },
    {
      "cell_type": "markdown",
      "metadata": {
        "id": "Ut3Oi7g5KnKE",
        "colab_type": "text"
      },
      "source": [
        "###**С помощью метода максимального правдоподобия получите оценки линейной модели. Для этого в явном виде в матричной форме выпишите функцию правдоподобия.Далее найдите оценки коэффициентов (дисперсии ошибок – по желанию) двумя способами:**\n",
        "\n",
        "###**(a) Решите задачу аналитически (совпадёт с МНК, просто перепишите предыдущий результат)**\n",
        "\n",
        "###**(b) Решите задачу с помощью методов численного дифференцирования. В случаях когда градиент трудно выписать в явной форме, его можно вычислить приближённо, через приращения. Пример кода для функции нескольких переменных приложен в письме с домашним заданием, обобщите его на векторный случай.Напишите функцию, вычисляющую приближённый вектор-градиент правдоподобия в точке. Так как эта задача выпуклая, отлично справится обычный градиентный спуск без дополнительных наворотов.**\n",
        "\n",
        "Если кто-то забыл или не знал,\n",
        "что это такое:\n",
        "https://github.com/esokolov/ml-course-hse/blob/master/2019-fall/lecture-notes/lecture02-linregr.pdf\n",
        "Похожи ли результаты?"
      ]
    },
    {
      "cell_type": "markdown",
      "metadata": {
        "id": "Pgn9agvYJ0HI",
        "colab_type": "text"
      },
      "source": [
        "Метод максимального правдоподобия основывается на предположении о нормальности случайных ошибок (предположим также гомоскедастичность):\n",
        "\n",
        "# $L(\\beta, \\sigma^2) = \\left(\\frac{1}{\\sqrt{2\\pi \\sigma^2}}\\right)^n \\cdot e^{-\\frac{1}{2\\sigma^2}||y - X \\beta||^2}$\n",
        "\n",
        "# $l(\\beta, \\sigma^2) = -\\frac{1}{2\\sigma^2}||y - X \\beta||^2 -\\frac{n}{2}\\ln{2\\pi} - \\frac{n}{2}\\ln{\\sigma^2}$\n",
        "\n",
        "# $l'_{\\beta} = -\\frac{1}{2\\sigma^2} [(y - X \\beta)^T(y - X \\beta)]'_{\\beta}$\n",
        "\n",
        "# $d(y^Ty - y^TX\\beta -\\beta^TX^Ty + \\beta^TX^TX\\beta) = $\n",
        "\n",
        "# $-y^TX(d\\beta) - (d\\beta^T) X^Ty +(d\\beta^T) X^TX\\beta + \\beta^TX^TX(d\\beta) =$\n",
        "\n",
        "# $-2y^TX(d\\beta) + 2 \\beta^TX^TX(d\\beta) = 2(\\beta^TX^TX - y^TX)d\\beta$\n",
        "\n",
        "# $l'_{\\beta} = -\\frac{1}{2\\sigma^2} \\cdot 2(\\beta^TX^TX - y^TX)d\\beta = \\frac{1}{\\sigma^2}(y^TX - \\beta^TX^TX) d\\beta$\n",
        "\n",
        "Оценки коэффициентов получаются такими же, как в МНК:\n",
        "\n",
        "# $\\hat{\\beta} = (X^TX)^{-1}X^Ty$\n",
        "\n",
        "# $l'_{\\sigma^2} = \\frac{1}{2\\sigma^4} ||y - X \\beta||^2 - \\frac{n}{2\\sigma^2} = \\frac{1}{2\\sigma^2}(\\frac{||y - X \\beta||^2 }{\\sigma^2} - n)$"
      ]
    },
    {
      "cell_type": "code",
      "metadata": {
        "id": "f76pwEsnKeim",
        "colab_type": "code",
        "colab": {
          "base_uri": "https://localhost:8080/",
          "height": 104
        },
        "outputId": "9a78dda2-b71d-488a-ee5a-2a9fe2511d91"
      },
      "source": [
        "beta_ml = lin_model1_result.params\n",
        "beta_ml"
      ],
      "execution_count": 90,
      "outputs": [
        {
          "output_type": "execute_result",
          "data": {
            "text/plain": [
              "ISI    -0.058487\n",
              "temp    0.061843\n",
              "RH      0.011173\n",
              "wind    0.158861\n",
              "dtype: float64"
            ]
          },
          "metadata": {
            "tags": []
          },
          "execution_count": 90
        }
      ]
    },
    {
      "cell_type": "markdown",
      "metadata": {
        "id": "NdJBDACrNPjN",
        "colab_type": "text"
      },
      "source": [
        "Так как у нас задача максимизации - мы бюдем двигаться в сторону градиента"
      ]
    },
    {
      "cell_type": "code",
      "metadata": {
        "id": "Zj_GFCxLKhlx",
        "colab_type": "code",
        "colab": {}
      },
      "source": [
        "def grad_calc(X,y, beta_old, sigma2_old, step=0.005):\n",
        "  step = step\n",
        "  n = X.shape[0]\n",
        "  y = y.reshape(n, 1)\n",
        "  xtx = np.dot(X.transpose(), X)\n",
        "  grad_beta = (np.dot(y.transpose(), X) - np.dot(beta_old.transpose(), xtx)) / sigma2_old\n",
        "  resid = y - np.dot(X, beta_old)\n",
        "  \n",
        "  grad_sigma = ((np.dot(resid.transpose(), resid)/sigma2_old) - n)/(2*sigma2_old**2)\n",
        "  beta_new = beta_old + step*grad_beta.transpose()\n",
        "  sigma2_new = sigma2_old + step*grad_sigma\n",
        "  return (beta_new, sigma2_new)"
      ],
      "execution_count": 120,
      "outputs": []
    },
    {
      "cell_type": "code",
      "metadata": {
        "id": "AwhFzBLFVPFF",
        "colab_type": "code",
        "colab": {}
      },
      "source": [
        "epsilon = 0.0001\n",
        "def maxlikelihood(X,y,step, max_iter=100):\n",
        "  step = step\n",
        "  n = X.shape[0]\n",
        "  k = X.shape[1]\n",
        "  y = y.reshape(n, 1)\n",
        "  beta_start = np.random.random(size=(k, 1))\n",
        "  sigma2_start = np.random.random_sample()+0.001\n",
        "  beta_n, sigma2_n = grad_calc(X,y, beta_start, sigma2_start, step=step)\n",
        "  i = 1\n",
        "  while np.sum(abs(beta_n - beta_start) > epsilon) > 0 and abs(sigma2_n - sigma2_start) > epsilon:\n",
        "    if i > max_iter:\n",
        "      break\n",
        "    else:\n",
        "      beta_n, sigma2_n = grad_calc(X,y, beta_n, sigma2_n, step=step)\n",
        "      i = i + 1\n",
        "  return (beta_n, sigma2_n)\n",
        "  "
      ],
      "execution_count": 127,
      "outputs": []
    },
    {
      "cell_type": "code",
      "metadata": {
        "id": "vC0v-EpafNWp",
        "colab_type": "code",
        "colab": {}
      },
      "source": [
        "np.random.seed(1000)"
      ],
      "execution_count": 130,
      "outputs": []
    },
    {
      "cell_type": "markdown",
      "metadata": {
        "id": "5CZyEAf3fiZ4",
        "colab_type": "text"
      },
      "source": [
        "Результаты применения ММП"
      ]
    },
    {
      "cell_type": "code",
      "metadata": {
        "id": "7gwurir_az9D",
        "colab_type": "code",
        "colab": {
          "base_uri": "https://localhost:8080/",
          "height": 86
        },
        "outputId": "8f40f476-3137-4e83-aae5-83ecde919a02"
      },
      "source": [
        "maxlikelihood(X_fire_1, y_fire.values, 0.005, max_iter=2000)"
      ],
      "execution_count": 131,
      "outputs": [
        {
          "output_type": "execute_result",
          "data": {
            "text/plain": [
              "(array([[-0.05577043],\n",
              "        [ 0.06166324],\n",
              "        [ 0.0119198 ],\n",
              "        [ 0.14517654]]), array([[2730.05568536]]))"
            ]
          },
          "metadata": {
            "tags": []
          },
          "execution_count": 131
        }
      ]
    },
    {
      "cell_type": "markdown",
      "metadata": {
        "id": "8BnpdfDSfxxq",
        "colab_type": "text"
      },
      "source": [
        "##**Нам нужны оценки ММП**"
      ]
    },
    {
      "cell_type": "code",
      "metadata": {
        "id": "UJ2rJIPkf0vm",
        "colab_type": "code",
        "colab": {
          "base_uri": "https://localhost:8080/",
          "height": 104
        },
        "outputId": "56fbff91-bc62-4f51-a7e2-4ab8fd6a318f"
      },
      "source": [
        "beta_ml = lin_model1_result.params\n",
        "beta_ml"
      ],
      "execution_count": 133,
      "outputs": [
        {
          "output_type": "execute_result",
          "data": {
            "text/plain": [
              "ISI    -0.058487\n",
              "temp    0.061843\n",
              "RH      0.011173\n",
              "wind    0.158861\n",
              "dtype: float64"
            ]
          },
          "metadata": {
            "tags": []
          },
          "execution_count": 133
        }
      ]
    },
    {
      "cell_type": "markdown",
      "metadata": {
        "id": "HtsFJXg3f5Df",
        "colab_type": "text"
      },
      "source": [
        "##*Камилла: у нас есть оценки ММП дома*\n",
        "\n",
        "##**Оценки ММП дома:**"
      ]
    },
    {
      "cell_type": "code",
      "metadata": {
        "id": "B-EoXVB8fRRc",
        "colab_type": "code",
        "colab": {
          "base_uri": "https://localhost:8080/",
          "height": 86
        },
        "outputId": "11c1a372-7599-4efb-9588-0c2b3361e6f9"
      },
      "source": [
        "beta_homemade_ml = maxlikelihood(X_fire_1, y_fire.values, 0.005, max_iter=2000)\n",
        "beta_homemade_ml"
      ],
      "execution_count": 132,
      "outputs": [
        {
          "output_type": "execute_result",
          "data": {
            "text/plain": [
              "(array([[-0.05865276],\n",
              "        [ 0.06188691],\n",
              "        [ 0.01115537],\n",
              "        [ 0.15923487]]), array([[2969.22338751]]))"
            ]
          },
          "metadata": {
            "tags": []
          },
          "execution_count": 132
        }
      ]
    },
    {
      "cell_type": "markdown",
      "metadata": {
        "id": "guXLp_36gQUC",
        "colab_type": "text"
      },
      "source": [
        "Здесь рандомизация прошла настолько хорошо, что полученные численным методом оценки ММП очень похожи на оценки, реализованные в Питоне\n",
        "\n",
        "Но если запускать по-новому, в силу рандомности начальных параметров, можно не прийти в другое место (так как я добавила максимальное число итераций)\n"
      ]
    },
    {
      "cell_type": "code",
      "metadata": {
        "id": "Py6K8q38fRgZ",
        "colab_type": "code",
        "colab": {}
      },
      "source": [
        "# Для проверки результата:\n",
        "beta_homemade_ml_check = maxlikelihood(X_fire_1, y_fire.values, 0.005, max_iter=2000)\n",
        "beta_homemade_ml_check"
      ],
      "execution_count": null,
      "outputs": []
    }
  ]
}